{
 "cells": [
  {
   "cell_type": "markdown",
   "metadata": {},
   "source": [
    "# A more dense CNN for MNIST"
   ]
  },
  {
   "cell_type": "markdown",
   "metadata": {},
   "source": [
    "We can see here that the model with the following criteria:\n",
    "- 1 Convolution Hidden Layer\n",
    "   - 8 Convolution Filter\n",
    "   - Relu Activation\n",
    "   - 1 Max Pooling layer with stride = 2\n",
    "   - `he_normal` initializer\n",
    "- 1 Hidden layer\n",
    "   - 100 nodes in layer\n",
    "   - Relu Activation\n",
    "   - `he_normal` initializer\n",
    "- Sparse Categorical Cross Entropy loss function\n",
    "- Adam optimizer"
   ]
  },
  {
   "cell_type": "code",
   "execution_count": 1,
   "metadata": {
    "execution": {
     "iopub.execute_input": "2020-09-16T10:00:48.387561Z",
     "iopub.status.busy": "2020-09-16T10:00:48.387338Z",
     "iopub.status.idle": "2020-09-16T10:00:50.523960Z",
     "shell.execute_reply": "2020-09-16T10:00:50.523259Z",
     "shell.execute_reply.started": "2020-09-16T10:00:48.387536Z"
    }
   },
   "outputs": [],
   "source": [
    "import mnist_data_load\n",
    "import logging\n",
    "import random\n",
    "import numpy as np\n",
    "import pandas as pd\n",
    "import matplotlib.pyplot as plt\n",
    "import matplotlib.gridspec as gridspec\n",
    "import tensorflow as tf\n",
    "from tensorflow.keras.models import Sequential\n",
    "from tensorflow.keras.layers import Conv2D\n",
    "from tensorflow.keras.layers import MaxPool2D\n",
    "from tensorflow.keras.layers import Flatten\n",
    "from tensorflow.keras.layers import Dense"
   ]
  },
  {
   "cell_type": "code",
   "execution_count": 2,
   "metadata": {
    "execution": {
     "iopub.execute_input": "2020-09-16T10:00:50.525013Z",
     "iopub.status.busy": "2020-09-16T10:00:50.524827Z",
     "iopub.status.idle": "2020-09-16T10:00:50.575602Z",
     "shell.execute_reply": "2020-09-16T10:00:50.574927Z",
     "shell.execute_reply.started": "2020-09-16T10:00:50.524988Z"
    }
   },
   "outputs": [],
   "source": [
    "assert len(tf.config.experimental.list_physical_devices('GPU')) != 0"
   ]
  },
  {
   "cell_type": "code",
   "execution_count": 3,
   "metadata": {
    "execution": {
     "iopub.execute_input": "2020-09-16T10:00:51.747996Z",
     "iopub.status.busy": "2020-09-16T10:00:51.747666Z",
     "iopub.status.idle": "2020-09-16T10:00:51.752988Z",
     "shell.execute_reply": "2020-09-16T10:00:51.751944Z",
     "shell.execute_reply.started": "2020-09-16T10:00:51.747956Z"
    }
   },
   "outputs": [],
   "source": [
    "enbale_info_logging = True\n",
    "if enbale_info_logging:\n",
    "    logging.getLogger().setLevel(logging.INFO)"
   ]
  },
  {
   "cell_type": "code",
   "execution_count": 4,
   "metadata": {
    "execution": {
     "iopub.execute_input": "2020-09-16T10:00:52.512507Z",
     "iopub.status.busy": "2020-09-16T10:00:52.512285Z",
     "iopub.status.idle": "2020-09-16T10:00:52.515824Z",
     "shell.execute_reply": "2020-09-16T10:00:52.515162Z",
     "shell.execute_reply.started": "2020-09-16T10:00:52.512482Z"
    }
   },
   "outputs": [],
   "source": [
    "random_seed = 100\n",
    "np.random.seed(random_seed)\n",
    "tf.random.set_seed(random_seed)"
   ]
  },
  {
   "cell_type": "markdown",
   "metadata": {},
   "source": [
    "## Load data"
   ]
  },
  {
   "cell_type": "code",
   "execution_count": 7,
   "metadata": {
    "execution": {
     "iopub.execute_input": "2020-09-16T10:02:39.660291Z",
     "iopub.status.busy": "2020-09-16T10:02:39.660067Z",
     "iopub.status.idle": "2020-09-16T10:02:43.394737Z",
     "shell.execute_reply": "2020-09-16T10:02:43.394147Z",
     "shell.execute_reply.started": "2020-09-16T10:02:39.660266Z"
    }
   },
   "outputs": [
    {
     "name": "stderr",
     "output_type": "stream",
     "text": [
      "INFO:root:handling label: 1\n",
      "INFO:root:handling label: 0\n",
      "INFO:root:handling label: 4\n",
      "INFO:root:handling label: 7\n",
      "INFO:root:handling label: 3\n",
      "INFO:root:handling label: 5\n",
      "INFO:root:handling label: 8\n",
      "INFO:root:handling label: 9\n",
      "INFO:root:handling label: 2\n",
      "INFO:root:handling label: 6\n"
     ]
    }
   ],
   "source": [
    "train_data, validation_data, test_data = mnist_data_load.load_data(seed=random_seed)"
   ]
  },
  {
   "cell_type": "code",
   "execution_count": 8,
   "metadata": {
    "execution": {
     "iopub.execute_input": "2020-09-16T10:02:47.081993Z",
     "iopub.status.busy": "2020-09-16T10:02:47.081659Z",
     "iopub.status.idle": "2020-09-16T10:02:47.183315Z",
     "shell.execute_reply": "2020-09-16T10:02:47.182705Z",
     "shell.execute_reply.started": "2020-09-16T10:02:47.081953Z"
    }
   },
   "outputs": [],
   "source": [
    "x_train, y_train = mnist_data_load.get_label_and_features_from_dataframe(train_data)"
   ]
  },
  {
   "cell_type": "code",
   "execution_count": 9,
   "metadata": {
    "execution": {
     "iopub.execute_input": "2020-09-16T10:02:48.266046Z",
     "iopub.status.busy": "2020-09-16T10:02:48.265800Z",
     "iopub.status.idle": "2020-09-16T10:02:48.273228Z",
     "shell.execute_reply": "2020-09-16T10:02:48.272378Z",
     "shell.execute_reply.started": "2020-09-16T10:02:48.266020Z"
    }
   },
   "outputs": [
    {
     "name": "stderr",
     "output_type": "stream",
     "text": [
      "INFO:root:(30360, 28, 28, 1)\n",
      "INFO:root:(30360,)\n",
      "INFO:root:float64\n"
     ]
    }
   ],
   "source": [
    "logging.info(x_train.shape)\n",
    "logging.info(y_train.shape)\n",
    "logging.info(x_train.dtype)"
   ]
  },
  {
   "cell_type": "markdown",
   "metadata": {},
   "source": [
    "## Defining Model"
   ]
  },
  {
   "cell_type": "code",
   "execution_count": 10,
   "metadata": {
    "execution": {
     "iopub.execute_input": "2020-09-16T10:02:50.938937Z",
     "iopub.status.busy": "2020-09-16T10:02:50.938683Z",
     "iopub.status.idle": "2020-09-16T10:02:50.944040Z",
     "shell.execute_reply": "2020-09-16T10:02:50.943242Z",
     "shell.execute_reply.started": "2020-09-16T10:02:50.938908Z"
    }
   },
   "outputs": [],
   "source": [
    "def get_model():\n",
    "    model = Sequential()\n",
    "    model.add(Conv2D(filters=8, kernel_size=(3, 3), kernel_initializer='he_normal',\n",
    "                     activation='relu', input_shape=(28, 28, 1))) \n",
    "    model.add(MaxPool2D())\n",
    "    model.add(Flatten())\n",
    "    model.add(Dense(units=100, activation='relu', kernel_initializer='he_normal'))\n",
    "    model.add(Dense(units=10, activation='softmax'))\n",
    "    return model"
   ]
  },
  {
   "cell_type": "code",
   "execution_count": 11,
   "metadata": {
    "execution": {
     "iopub.execute_input": "2020-09-16T10:02:51.533204Z",
     "iopub.status.busy": "2020-09-16T10:02:51.532859Z",
     "iopub.status.idle": "2020-09-16T10:02:52.103424Z",
     "shell.execute_reply": "2020-09-16T10:02:52.102833Z",
     "shell.execute_reply.started": "2020-09-16T10:02:51.533164Z"
    }
   },
   "outputs": [],
   "source": [
    "model_conv1_sparse = get_model()"
   ]
  },
  {
   "cell_type": "code",
   "execution_count": 12,
   "metadata": {
    "execution": {
     "iopub.execute_input": "2020-09-16T10:02:52.104497Z",
     "iopub.status.busy": "2020-09-16T10:02:52.104305Z",
     "iopub.status.idle": "2020-09-16T10:02:52.111496Z",
     "shell.execute_reply": "2020-09-16T10:02:52.110524Z",
     "shell.execute_reply.started": "2020-09-16T10:02:52.104473Z"
    }
   },
   "outputs": [
    {
     "name": "stdout",
     "output_type": "stream",
     "text": [
      "Model: \"sequential\"\n",
      "_________________________________________________________________\n",
      "Layer (type)                 Output Shape              Param #   \n",
      "=================================================================\n",
      "conv2d (Conv2D)              (None, 26, 26, 8)         80        \n",
      "_________________________________________________________________\n",
      "max_pooling2d (MaxPooling2D) (None, 13, 13, 8)         0         \n",
      "_________________________________________________________________\n",
      "flatten (Flatten)            (None, 1352)              0         \n",
      "_________________________________________________________________\n",
      "dense (Dense)                (None, 100)               135300    \n",
      "_________________________________________________________________\n",
      "dense_1 (Dense)              (None, 10)                1010      \n",
      "=================================================================\n",
      "Total params: 136,390\n",
      "Trainable params: 136,390\n",
      "Non-trainable params: 0\n",
      "_________________________________________________________________\n"
     ]
    }
   ],
   "source": [
    "model_conv1_sparse.summary()"
   ]
  },
  {
   "cell_type": "code",
   "execution_count": 13,
   "metadata": {
    "execution": {
     "iopub.execute_input": "2020-09-16T10:02:52.757535Z",
     "iopub.status.busy": "2020-09-16T10:02:52.757318Z",
     "iopub.status.idle": "2020-09-16T10:02:52.770960Z",
     "shell.execute_reply": "2020-09-16T10:02:52.770128Z",
     "shell.execute_reply.started": "2020-09-16T10:02:52.757512Z"
    }
   },
   "outputs": [],
   "source": [
    "model_conv1_sparse.compile(optimizer='adam', loss='sparse_categorical_crossentropy', metrics=['sparse_categorical_accuracy'])"
   ]
  },
  {
   "cell_type": "markdown",
   "metadata": {},
   "source": [
    "### Training the model"
   ]
  },
  {
   "cell_type": "code",
   "execution_count": 14,
   "metadata": {
    "execution": {
     "iopub.execute_input": "2020-09-16T10:02:54.046193Z",
     "iopub.status.busy": "2020-09-16T10:02:54.045977Z",
     "iopub.status.idle": "2020-09-16T10:03:06.204017Z",
     "shell.execute_reply": "2020-09-16T10:03:06.203077Z",
     "shell.execute_reply.started": "2020-09-16T10:02:54.046168Z"
    }
   },
   "outputs": [
    {
     "name": "stdout",
     "output_type": "stream",
     "text": [
      "Epoch 1/5\n",
      "949/949 [==============================] - 2s 2ms/step - loss: 6.3500 - sparse_categorical_accuracy: 0.8743\n",
      "Epoch 2/5\n",
      "949/949 [==============================] - 2s 2ms/step - loss: 0.5436 - sparse_categorical_accuracy: 0.9105\n",
      "Epoch 3/5\n",
      "949/949 [==============================] - 2s 2ms/step - loss: 0.3189 - sparse_categorical_accuracy: 0.9349\n",
      "Epoch 4/5\n",
      "949/949 [==============================] - 2s 2ms/step - loss: 0.2596 - sparse_categorical_accuracy: 0.9436\n",
      "Epoch 5/5\n",
      "949/949 [==============================] - 2s 2ms/step - loss: 0.1839 - sparse_categorical_accuracy: 0.9569\n"
     ]
    }
   ],
   "source": [
    "history_sparse = model_conv1_sparse.fit(x_train, y_train, batch_size=32, epochs=5, verbose=1)"
   ]
  },
  {
   "cell_type": "markdown",
   "metadata": {},
   "source": [
    "### Validating the model"
   ]
  },
  {
   "cell_type": "code",
   "execution_count": 15,
   "metadata": {
    "execution": {
     "iopub.execute_input": "2020-09-16T10:03:08.920822Z",
     "iopub.status.busy": "2020-09-16T10:03:08.920579Z",
     "iopub.status.idle": "2020-09-16T10:03:08.946236Z",
     "shell.execute_reply": "2020-09-16T10:03:08.945035Z",
     "shell.execute_reply.started": "2020-09-16T10:03:08.920791Z"
    }
   },
   "outputs": [],
   "source": [
    "x_val, y_val = mnist_data_load.get_label_and_features_from_dataframe(validation_data)"
   ]
  },
  {
   "cell_type": "code",
   "execution_count": 16,
   "metadata": {
    "execution": {
     "iopub.execute_input": "2020-09-16T10:03:09.489920Z",
     "iopub.status.busy": "2020-09-16T10:03:09.489705Z",
     "iopub.status.idle": "2020-09-16T10:03:09.497145Z",
     "shell.execute_reply": "2020-09-16T10:03:09.496428Z",
     "shell.execute_reply.started": "2020-09-16T10:03:09.489897Z"
    }
   },
   "outputs": [
    {
     "name": "stderr",
     "output_type": "stream",
     "text": [
      "INFO:root:(3790, 28, 28, 1)\n",
      "INFO:root:(3790,)\n",
      "INFO:root:float64\n"
     ]
    }
   ],
   "source": [
    "logging.info(x_val.shape)\n",
    "logging.info(y_val.shape)\n",
    "logging.info(x_val.dtype)"
   ]
  },
  {
   "cell_type": "code",
   "execution_count": 17,
   "metadata": {
    "execution": {
     "iopub.execute_input": "2020-09-16T10:03:10.225905Z",
     "iopub.status.busy": "2020-09-16T10:03:10.225539Z",
     "iopub.status.idle": "2020-09-16T10:03:10.712556Z",
     "shell.execute_reply": "2020-09-16T10:03:10.711270Z",
     "shell.execute_reply.started": "2020-09-16T10:03:10.225842Z"
    }
   },
   "outputs": [
    {
     "name": "stdout",
     "output_type": "stream",
     "text": [
      "119/119 [==============================] - 0s 2ms/step - loss: 0.3186 - sparse_categorical_accuracy: 0.9454\n"
     ]
    }
   ],
   "source": [
    "history_sparse_validation = model_conv1_sparse.evaluate(x_val, y_val, batch_size=32, verbose=1)"
   ]
  },
  {
   "cell_type": "code",
   "execution_count": 18,
   "metadata": {
    "execution": {
     "iopub.execute_input": "2020-09-16T10:03:11.245363Z",
     "iopub.status.busy": "2020-09-16T10:03:11.245146Z",
     "iopub.status.idle": "2020-09-16T10:03:11.275034Z",
     "shell.execute_reply": "2020-09-16T10:03:11.274063Z",
     "shell.execute_reply.started": "2020-09-16T10:03:11.245339Z"
    }
   },
   "outputs": [],
   "source": [
    "model_conv1_sparse.save('cnn_1x8_sparse.h5')"
   ]
  },
  {
   "cell_type": "markdown",
   "metadata": {},
   "source": [
    "## Checking Model performance"
   ]
  },
  {
   "cell_type": "code",
   "execution_count": 19,
   "metadata": {
    "execution": {
     "iopub.execute_input": "2020-09-16T10:03:12.290312Z",
     "iopub.status.busy": "2020-09-16T10:03:12.289959Z",
     "iopub.status.idle": "2020-09-16T10:03:12.620170Z",
     "shell.execute_reply": "2020-09-16T10:03:12.619364Z",
     "shell.execute_reply.started": "2020-09-16T10:03:12.290282Z"
    }
   },
   "outputs": [],
   "source": [
    "x_test, y_test = mnist_data_load.get_label_and_features_from_dataframe(train_data)"
   ]
  },
  {
   "cell_type": "code",
   "execution_count": 20,
   "metadata": {
    "execution": {
     "iopub.execute_input": "2020-09-16T10:03:12.860171Z",
     "iopub.status.busy": "2020-09-16T10:03:12.859931Z",
     "iopub.status.idle": "2020-09-16T10:03:12.866888Z",
     "shell.execute_reply": "2020-09-16T10:03:12.865852Z",
     "shell.execute_reply.started": "2020-09-16T10:03:12.860145Z"
    }
   },
   "outputs": [
    {
     "name": "stderr",
     "output_type": "stream",
     "text": [
      "INFO:root:(30360, 28, 28, 1)\n",
      "INFO:root:(30360,)\n",
      "INFO:root:float64\n"
     ]
    }
   ],
   "source": [
    "logging.info(x_test.shape)\n",
    "logging.info(y_train.shape)\n",
    "logging.info(x_train.dtype)"
   ]
  },
  {
   "cell_type": "code",
   "execution_count": 21,
   "metadata": {
    "execution": {
     "iopub.execute_input": "2020-09-16T10:03:13.461701Z",
     "iopub.status.busy": "2020-09-16T10:03:13.461456Z",
     "iopub.status.idle": "2020-09-16T10:03:14.937542Z",
     "shell.execute_reply": "2020-09-16T10:03:14.936782Z",
     "shell.execute_reply.started": "2020-09-16T10:03:13.461677Z"
    }
   },
   "outputs": [
    {
     "name": "stdout",
     "output_type": "stream",
     "text": [
      "949/949 [==============================] - 1s 1ms/step\n"
     ]
    }
   ],
   "source": [
    "prediction = model_conv1_sparse.predict(x_train, verbose=1)"
   ]
  },
  {
   "cell_type": "code",
   "execution_count": 22,
   "metadata": {
    "execution": {
     "iopub.execute_input": "2020-09-16T10:03:14.939394Z",
     "iopub.status.busy": "2020-09-16T10:03:14.939076Z",
     "iopub.status.idle": "2020-09-16T10:03:14.943495Z",
     "shell.execute_reply": "2020-09-16T10:03:14.942854Z",
     "shell.execute_reply.started": "2020-09-16T10:03:14.939356Z"
    }
   },
   "outputs": [
    {
     "name": "stderr",
     "output_type": "stream",
     "text": [
      "INFO:root:(30360, 10)\n"
     ]
    }
   ],
   "source": [
    "logging.info(prediction.shape)"
   ]
  },
  {
   "cell_type": "code",
   "execution_count": 23,
   "metadata": {
    "execution": {
     "iopub.execute_input": "2020-09-16T10:03:15.058684Z",
     "iopub.status.busy": "2020-09-16T10:03:15.058349Z",
     "iopub.status.idle": "2020-09-16T10:03:15.063370Z",
     "shell.execute_reply": "2020-09-16T10:03:15.062370Z",
     "shell.execute_reply.started": "2020-09-16T10:03:15.058644Z"
    }
   },
   "outputs": [],
   "source": [
    "prediction_index = np.argmax(prediction, axis=1)"
   ]
  },
  {
   "cell_type": "code",
   "execution_count": 24,
   "metadata": {
    "execution": {
     "iopub.execute_input": "2020-09-16T10:03:16.909767Z",
     "iopub.status.busy": "2020-09-16T10:03:16.909553Z",
     "iopub.status.idle": "2020-09-16T10:03:16.913837Z",
     "shell.execute_reply": "2020-09-16T10:03:16.913048Z",
     "shell.execute_reply.started": "2020-09-16T10:03:16.909743Z"
    }
   },
   "outputs": [
    {
     "name": "stderr",
     "output_type": "stream",
     "text": [
      "INFO:root:(30360,)\n"
     ]
    }
   ],
   "source": [
    "logging.info(prediction_index.shape)"
   ]
  },
  {
   "cell_type": "code",
   "execution_count": 25,
   "metadata": {
    "execution": {
     "iopub.execute_input": "2020-09-16T10:03:17.436013Z",
     "iopub.status.busy": "2020-09-16T10:03:17.435776Z",
     "iopub.status.idle": "2020-09-16T10:03:17.439982Z",
     "shell.execute_reply": "2020-09-16T10:03:17.438886Z",
     "shell.execute_reply.started": "2020-09-16T10:03:17.435988Z"
    }
   },
   "outputs": [],
   "source": [
    "prediciton_result = np.sum(prediction_index == y_test)"
   ]
  },
  {
   "cell_type": "code",
   "execution_count": 26,
   "metadata": {
    "execution": {
     "iopub.execute_input": "2020-09-16T10:03:17.929981Z",
     "iopub.status.busy": "2020-09-16T10:03:17.929756Z",
     "iopub.status.idle": "2020-09-16T10:03:17.934269Z",
     "shell.execute_reply": "2020-09-16T10:03:17.933420Z",
     "shell.execute_reply.started": "2020-09-16T10:03:17.929956Z"
    }
   },
   "outputs": [
    {
     "name": "stderr",
     "output_type": "stream",
     "text": [
      "INFO:root:0.958102766798419\n"
     ]
    }
   ],
   "source": [
    "accuracy = prediciton_result/len(y_train)\n",
    "logging.info(accuracy)"
   ]
  },
  {
   "cell_type": "code",
   "execution_count": 27,
   "metadata": {
    "execution": {
     "iopub.execute_input": "2020-09-16T10:03:18.471082Z",
     "iopub.status.busy": "2020-09-16T10:03:18.470867Z",
     "iopub.status.idle": "2020-09-16T10:03:18.726515Z",
     "shell.execute_reply": "2020-09-16T10:03:18.725736Z",
     "shell.execute_reply.started": "2020-09-16T10:03:18.471058Z"
    }
   },
   "outputs": [
    {
     "data": {
      "image/png": "[encoded data removed]",
      "text/plain": [
       "<Figure size 720x360 with 2 Axes>"
      ]
     },
     "metadata": {
      "needs_background": "light"
     },
     "output_type": "display_data"
    }
   ],
   "source": [
    "plt.figure(figsize=(10, 5))\n",
    "plt1 = plt.subplot(1, 2, 1)\n",
    "plt1.plot(history_sparse.history['sparse_categorical_accuracy'], label='training')\n",
    "plt2 = plt.subplot(1, 2, 2)\n",
    "plt2.plot(history_sparse.history['loss'], label='validation')\n",
    "plt.show()"
   ]
  },
  {
   "cell_type": "markdown",
   "metadata": {},
   "source": [
    "## Model Visualization"
   ]
  },
  {
   "cell_type": "markdown",
   "metadata": {},
   "source": [
    "### Intermediate Model Generation"
   ]
  },
  {
   "cell_type": "code",
   "execution_count": 28,
   "metadata": {
    "execution": {
     "iopub.execute_input": "2020-09-16T10:05:38.131766Z",
     "iopub.status.busy": "2020-09-16T10:05:38.131517Z",
     "iopub.status.idle": "2020-09-16T10:05:38.138713Z",
     "shell.execute_reply": "2020-09-16T10:05:38.137906Z",
     "shell.execute_reply.started": "2020-09-16T10:05:38.131738Z"
    }
   },
   "outputs": [
    {
     "name": "stdout",
     "output_type": "stream",
     "text": [
      "Model: \"sequential\"\n",
      "_________________________________________________________________\n",
      "Layer (type)                 Output Shape              Param #   \n",
      "=================================================================\n",
      "conv2d (Conv2D)              (None, 26, 26, 8)         80        \n",
      "_________________________________________________________________\n",
      "max_pooling2d (MaxPooling2D) (None, 13, 13, 8)         0         \n",
      "_________________________________________________________________\n",
      "flatten (Flatten)            (None, 1352)              0         \n",
      "_________________________________________________________________\n",
      "dense (Dense)                (None, 100)               135300    \n",
      "_________________________________________________________________\n",
      "dense_1 (Dense)              (None, 10)                1010      \n",
      "=================================================================\n",
      "Total params: 136,390\n",
      "Trainable params: 136,390\n",
      "Non-trainable params: 0\n",
      "_________________________________________________________________\n"
     ]
    }
   ],
   "source": [
    "model_conv1_sparse.summary()"
   ]
  },
  {
   "cell_type": "code",
   "execution_count": 31,
   "metadata": {
    "execution": {
     "iopub.execute_input": "2020-09-16T10:07:07.751584Z",
     "iopub.status.busy": "2020-09-16T10:07:07.751336Z",
     "iopub.status.idle": "2020-09-16T10:07:07.756847Z",
     "shell.execute_reply": "2020-09-16T10:07:07.756144Z",
     "shell.execute_reply.started": "2020-09-16T10:07:07.751555Z"
    }
   },
   "outputs": [
    {
     "data": {
      "text/plain": [
       "{'name': 'conv2d',\n",
       " 'trainable': True,\n",
       " 'batch_input_shape': (None, 28, 28, 1),\n",
       " 'dtype': 'float32',\n",
       " 'filters': 8,\n",
       " 'kernel_size': (3, 3),\n",
       " 'strides': (1, 1),\n",
       " 'padding': 'valid',\n",
       " 'data_format': 'channels_last',\n",
       " 'dilation_rate': (1, 1),\n",
       " 'activation': 'relu',\n",
       " 'use_bias': True,\n",
       " 'kernel_initializer': {'class_name': 'VarianceScaling',\n",
       "  'config': {'scale': 2.0,\n",
       "   'mode': 'fan_in',\n",
       "   'distribution': 'truncated_normal',\n",
       "   'seed': None}},\n",
       " 'bias_initializer': {'class_name': 'Zeros', 'config': {}},\n",
       " 'kernel_regularizer': None,\n",
       " 'bias_regularizer': None,\n",
       " 'activity_regularizer': None,\n",
       " 'kernel_constraint': None,\n",
       " 'bias_constraint': None}"
      ]
     },
     "execution_count": 31,
     "metadata": {},
     "output_type": "execute_result"
    }
   ],
   "source": [
    "conv1_layer = model_conv1_sparse.get_layer('conv2d')\n",
    "conv1_layer.get_config()"
   ]
  },
  {
   "cell_type": "code",
   "execution_count": 32,
   "metadata": {
    "execution": {
     "iopub.execute_input": "2020-09-16T10:07:31.366044Z",
     "iopub.status.busy": "2020-09-16T10:07:31.365675Z",
     "iopub.status.idle": "2020-09-16T10:07:31.383551Z",
     "shell.execute_reply": "2020-09-16T10:07:31.382631Z",
     "shell.execute_reply.started": "2020-09-16T10:07:31.366000Z"
    }
   },
   "outputs": [],
   "source": [
    "model_intermediate = Sequential()\n",
    "model_intermediate.add(conv1_layer)"
   ]
  },
  {
   "cell_type": "code",
   "execution_count": 58,
   "metadata": {
    "execution": {
     "iopub.execute_input": "2020-09-16T10:19:22.778682Z",
     "iopub.status.busy": "2020-09-16T10:19:22.778464Z",
     "iopub.status.idle": "2020-09-16T10:19:22.817019Z",
     "shell.execute_reply": "2020-09-16T10:19:22.816313Z",
     "shell.execute_reply.started": "2020-09-16T10:19:22.778658Z"
    }
   },
   "outputs": [],
   "source": [
    "model_intermediate.save('cnn_1x8_sparse_interm.h5')"
   ]
  },
  {
   "cell_type": "markdown",
   "metadata": {},
   "source": [
    "### Model Weights"
   ]
  },
  {
   "cell_type": "code",
   "execution_count": 47,
   "metadata": {
    "execution": {
     "iopub.execute_input": "2020-09-16T10:11:05.945132Z",
     "iopub.status.busy": "2020-09-16T10:11:05.944903Z",
     "iopub.status.idle": "2020-09-16T10:11:05.949127Z",
     "shell.execute_reply": "2020-09-16T10:11:05.948301Z",
     "shell.execute_reply.started": "2020-09-16T10:11:05.945106Z"
    }
   },
   "outputs": [],
   "source": [
    "conv1_layer_w = conv1_layer.get_weights()"
   ]
  },
  {
   "cell_type": "code",
   "execution_count": 48,
   "metadata": {
    "execution": {
     "iopub.execute_input": "2020-09-16T10:11:06.384086Z",
     "iopub.status.busy": "2020-09-16T10:11:06.383828Z",
     "iopub.status.idle": "2020-09-16T10:11:06.390272Z",
     "shell.execute_reply": "2020-09-16T10:11:06.389272Z",
     "shell.execute_reply.started": "2020-09-16T10:11:06.384051Z"
    }
   },
   "outputs": [
    {
     "name": "stderr",
     "output_type": "stream",
     "text": [
      "INFO:root:<class 'list'>\n",
      "INFO:root:(2,)\n"
     ]
    }
   ],
   "source": [
    "logging.info(type(conv1_layer_w))\n",
    "conv1_layer_w = np.array(conv1_layer_w, dtype=object)\n",
    "logging.info(conv1_layer_w.shape)"
   ]
  },
  {
   "cell_type": "code",
   "execution_count": 50,
   "metadata": {
    "execution": {
     "iopub.execute_input": "2020-09-16T10:11:36.278422Z",
     "iopub.status.busy": "2020-09-16T10:11:36.278080Z",
     "iopub.status.idle": "2020-09-16T10:11:36.283387Z",
     "shell.execute_reply": "2020-09-16T10:11:36.282643Z",
     "shell.execute_reply.started": "2020-09-16T10:11:36.278378Z"
    }
   },
   "outputs": [
    {
     "name": "stderr",
     "output_type": "stream",
     "text": [
      "INFO:root:(3, 3, 1, 8)\n",
      "INFO:root:(8,)\n"
     ]
    }
   ],
   "source": [
    "for w in conv1_layer_w:\n",
    "    logging.info(w.shape)"
   ]
  },
  {
   "cell_type": "markdown",
   "metadata": {},
   "source": [
    "Here we can see that the 1st weight denotes the filter values which has a dimension 3x3x1 and as there are 8 filters used, so we have the depth of 8 i.e. 3x3x1x8\n",
    "\n",
    "The 2nd weight denotes the bias that was added to these weights."
   ]
  },
  {
   "cell_type": "code",
   "execution_count": 53,
   "metadata": {
    "execution": {
     "iopub.execute_input": "2020-09-16T10:14:31.483530Z",
     "iopub.status.busy": "2020-09-16T10:14:31.483251Z",
     "iopub.status.idle": "2020-09-16T10:14:32.173319Z",
     "shell.execute_reply": "2020-09-16T10:14:32.172622Z",
     "shell.execute_reply.started": "2020-09-16T10:14:31.483502Z"
    }
   },
   "outputs": [
    {
     "data": {
      "image/png": "[encoded data removed]",
      "text/plain": [
       "<Figure size 720x360 with 8 Axes>"
      ]
     },
     "metadata": {
      "needs_background": "light"
     },
     "output_type": "display_data"
    }
   ],
   "source": [
    "plt.figure(figsize=(10, 5))\n",
    "for i in range(8):\n",
    "    subplt = plt.subplot(2, 4, i+1)\n",
    "    subplt.imshow(conv1_layer_w[0][:, :, :, i].reshape((3,3)), cmap='gray')\n",
    "plt.show()"
   ]
  },
  {
   "cell_type": "markdown",
   "metadata": {},
   "source": [
    "### Model Convolution output visualization"
   ]
  },
  {
   "cell_type": "code",
   "execution_count": 54,
   "metadata": {
    "execution": {
     "iopub.execute_input": "2020-09-16T10:16:48.275150Z",
     "iopub.status.busy": "2020-09-16T10:16:48.274907Z",
     "iopub.status.idle": "2020-09-16T10:16:48.412888Z",
     "shell.execute_reply": "2020-09-16T10:16:48.412107Z",
     "shell.execute_reply.started": "2020-09-16T10:16:48.275114Z"
    }
   },
   "outputs": [
    {
     "data": {
      "image/png": "[encoded data removed]",
      "text/plain": [
       "<Figure size 432x288 with 1 Axes>"
      ]
     },
     "metadata": {
      "needs_background": "light"
     },
     "output_type": "display_data"
    }
   ],
   "source": [
    "rand_index = random.randint(0, x_test.shape[0])\n",
    "example_data = x_test[rand_index]\n",
    "plt.imshow(example_data, cmap='gray')\n",
    "plt.show()"
   ]
  },
  {
   "cell_type": "code",
   "execution_count": 56,
   "metadata": {
    "execution": {
     "iopub.execute_input": "2020-09-16T10:17:54.631216Z",
     "iopub.status.busy": "2020-09-16T10:17:54.630996Z",
     "iopub.status.idle": "2020-09-16T10:17:54.700250Z",
     "shell.execute_reply": "2020-09-16T10:17:54.699441Z",
     "shell.execute_reply.started": "2020-09-16T10:17:54.631192Z"
    }
   },
   "outputs": [],
   "source": [
    "conv_output = model_intermediate.predict(example_data.reshape((1, 28, 28, 1)))"
   ]
  },
  {
   "cell_type": "code",
   "execution_count": 57,
   "metadata": {
    "execution": {
     "iopub.execute_input": "2020-09-16T10:18:06.066273Z",
     "iopub.status.busy": "2020-09-16T10:18:06.066056Z",
     "iopub.status.idle": "2020-09-16T10:18:06.070899Z",
     "shell.execute_reply": "2020-09-16T10:18:06.070020Z",
     "shell.execute_reply.started": "2020-09-16T10:18:06.066248Z"
    }
   },
   "outputs": [
    {
     "name": "stderr",
     "output_type": "stream",
     "text": [
      "INFO:root:(1, 26, 26, 8)\n"
     ]
    }
   ],
   "source": [
    "logging.info(conv_output.shape)"
   ]
  },
  {
   "cell_type": "code",
   "execution_count": 63,
   "metadata": {
    "execution": {
     "iopub.execute_input": "2020-09-16T10:28:09.563200Z",
     "iopub.status.busy": "2020-09-16T10:28:09.562992Z",
     "iopub.status.idle": "2020-09-16T10:28:09.570716Z",
     "shell.execute_reply": "2020-09-16T10:28:09.569948Z",
     "shell.execute_reply.started": "2020-09-16T10:28:09.563177Z"
    }
   },
   "outputs": [],
   "source": [
    "def conv1_test_output(num_examples):\n",
    "    random_index = [random.randint(0, x_test.shape[0]) for i in range(num_examples)]\n",
    "    random_feats = x_test[random_index]\n",
    "    assert len(random_feats.shape) == 4\n",
    "    predicts = model_intermediate.predict(random_feats)\n",
    "    for index, p in enumerate(predicts):\n",
    "        fig = plt.figure(figsize=(16, 3), constrained_layout=True)\n",
    "        grid = gridspec.GridSpec(1, 3, figure=fig)\n",
    "        grid0 = grid[0]\n",
    "        grid1 = grid[1].subgridspec(2, 4)\n",
    "        grid2 = grid[2].subgridspec(2, 4)\n",
    "        fig.add_subplot(grid0).imshow(random_feats[index], cmap='gray')\n",
    "        for i in range(8):\n",
    "            row = i // 4\n",
    "            col = i % 4\n",
    "            subplt = fig.add_subplot(grid1[row, col])\n",
    "            subplt.imshow(conv1_layer_w[0][:, :, :, i].reshape((3,3)), cmap='gray')\n",
    "        for i in range(8):\n",
    "            row = i //4\n",
    "            col = i % 4\n",
    "            subplt = fig.add_subplot(grid2[row, col])\n",
    "            subplt.imshow(p[:, :, i], cmap='gray')\n",
    "        plt.show()"
   ]
  },
  {
   "cell_type": "code",
   "execution_count": 64,
   "metadata": {
    "execution": {
     "iopub.execute_input": "2020-09-16T10:28:10.061682Z",
     "iopub.status.busy": "2020-09-16T10:28:10.061411Z",
     "iopub.status.idle": "2020-09-16T10:28:16.856238Z",
     "shell.execute_reply": "2020-09-16T10:28:16.855503Z",
     "shell.execute_reply.started": "2020-09-16T10:28:10.061654Z"
    }
   },
   "outputs": [
    {
     "data": {
      "image/png": "[encoded data removed]",
      "text/plain": [
       "<Figure size 1152x216 with 17 Axes>"
      ]
     },
     "metadata": {
      "needs_background": "light"
     },
     "output_type": "display_data"
    },
    {
     "data": {
      "image/png": "[encoded data removed]",
      "text/plain": [
       "<Figure size 1152x216 with 17 Axes>"
      ]
     },
     "metadata": {
      "needs_background": "light"
     },
     "output_type": "display_data"
    },
    {
     "data": {
      "image/png": "[encoded data removed]",
      "text/plain": [
       "<Figure size 1152x216 with 17 Axes>"
      ]
     },
     "metadata": {
      "needs_background": "light"
     },
     "output_type": "display_data"
    }
   ],
   "source": [
    "conv1_test_output(3)"
   ]
  },
  {
   "cell_type": "code",
   "execution_count": null,
   "metadata": {},
   "outputs": [],
   "source": []
  }
 ],
 "metadata": {
  "kernelspec": {
   "display_name": "Python 3",
   "language": "python",
   "name": "python3"
  },
  "language_info": {
   "codemirror_mode": {
    "name": "ipython",
    "version": 3
   },
   "file_extension": ".py",
   "mimetype": "text/x-python",
   "name": "python",
   "nbconvert_exporter": "python",
   "pygments_lexer": "ipython3",
   "version": "3.8.3"
  },
  "toc-autonumbering": true,
  "toc-showcode": false,
  "toc-showmarkdowntxt": false
 },
 "nbformat": 4,
 "nbformat_minor": 4
}
