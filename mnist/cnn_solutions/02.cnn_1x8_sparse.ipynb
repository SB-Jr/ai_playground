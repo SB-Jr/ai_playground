{
 "cells": [
  {
   "cell_type": "markdown",
   "metadata": {},
   "source": [
    "# A more dense CNN for MNIST"
   ]
  },
  {
   "cell_type": "markdown",
   "metadata": {},
   "source": [
    "We can see here that the model with the following criteria:\n",
    "- 1 Convolution Hidden Layer\n",
    "   - 8 Convolution Filter\n",
    "   - Relu Activation\n",
    "   - 1 Max Pooling layer with stride = 2\n",
    "   - `he_normal` initializer\n",
    "- 1 Hidden layer\n",
    "   - 100 nodes in layer\n",
    "   - Relu Activation\n",
    "   - `he_normal` initializer\n",
    "- Sparse Categorical Cross Entropy loss function\n",
    "- Adam optimizer"
   ]
  },
  {
   "cell_type": "code",
   "execution_count": 1,
   "metadata": {
    "execution": {
     "iopub.execute_input": "2020-09-16T12:09:42.976350Z",
     "iopub.status.busy": "2020-09-16T12:09:42.976118Z",
     "iopub.status.idle": "2020-09-16T12:09:45.230633Z",
     "shell.execute_reply": "2020-09-16T12:09:45.229656Z",
     "shell.execute_reply.started": "2020-09-16T12:09:42.976326Z"
    }
   },
   "outputs": [],
   "source": [
    "import mnist_data_load\n",
    "import logging\n",
    "import random\n",
    "import json\n",
    "import numpy as np\n",
    "import pandas as pd\n",
    "import matplotlib.pyplot as plt\n",
    "import matplotlib.gridspec as gridspec\n",
    "import tensorflow as tf\n",
    "from tensorflow.keras.models import Sequential\n",
    "from tensorflow.keras.layers import Conv2D\n",
    "from tensorflow.keras.layers import MaxPool2D\n",
    "from tensorflow.keras.layers import Flatten\n",
    "from tensorflow.keras.layers import Dense"
   ]
  },
  {
   "cell_type": "code",
   "execution_count": 2,
   "metadata": {
    "execution": {
     "iopub.execute_input": "2020-09-16T12:09:46.086068Z",
     "iopub.status.busy": "2020-09-16T12:09:46.085848Z",
     "iopub.status.idle": "2020-09-16T12:09:46.118123Z",
     "shell.execute_reply": "2020-09-16T12:09:46.117192Z",
     "shell.execute_reply.started": "2020-09-16T12:09:46.086044Z"
    }
   },
   "outputs": [],
   "source": [
    "assert len(tf.config.experimental.list_physical_devices('GPU')) != 0"
   ]
  },
  {
   "cell_type": "code",
   "execution_count": 3,
   "metadata": {
    "execution": {
     "iopub.execute_input": "2020-09-16T12:09:46.478476Z",
     "iopub.status.busy": "2020-09-16T12:09:46.478213Z",
     "iopub.status.idle": "2020-09-16T12:09:46.482862Z",
     "shell.execute_reply": "2020-09-16T12:09:46.481477Z",
     "shell.execute_reply.started": "2020-09-16T12:09:46.478448Z"
    }
   },
   "outputs": [],
   "source": [
    "enbale_info_logging = True\n",
    "if enbale_info_logging:\n",
    "    logging.getLogger().setLevel(logging.INFO)"
   ]
  },
  {
   "cell_type": "code",
   "execution_count": 4,
   "metadata": {
    "execution": {
     "iopub.execute_input": "2020-09-16T12:09:46.971584Z",
     "iopub.status.busy": "2020-09-16T12:09:46.971333Z",
     "iopub.status.idle": "2020-09-16T12:09:46.975111Z",
     "shell.execute_reply": "2020-09-16T12:09:46.974299Z",
     "shell.execute_reply.started": "2020-09-16T12:09:46.971558Z"
    }
   },
   "outputs": [],
   "source": [
    "random_seed = 100\n",
    "np.random.seed(random_seed)\n",
    "tf.random.set_seed(random_seed)"
   ]
  },
  {
   "cell_type": "markdown",
   "metadata": {},
   "source": [
    "## Load data"
   ]
  },
  {
   "cell_type": "code",
   "execution_count": 5,
   "metadata": {
    "execution": {
     "iopub.execute_input": "2020-09-16T12:09:47.903564Z",
     "iopub.status.busy": "2020-09-16T12:09:47.903348Z",
     "iopub.status.idle": "2020-09-16T12:09:51.927929Z",
     "shell.execute_reply": "2020-09-16T12:09:51.927246Z",
     "shell.execute_reply.started": "2020-09-16T12:09:47.903541Z"
    }
   },
   "outputs": [
    {
     "name": "stderr",
     "output_type": "stream",
     "text": [
      "INFO:root:handling label: 1\n",
      "INFO:root:handling label: 0\n",
      "INFO:root:handling label: 4\n",
      "INFO:root:handling label: 7\n",
      "INFO:root:handling label: 3\n",
      "INFO:root:handling label: 5\n",
      "INFO:root:handling label: 8\n",
      "INFO:root:handling label: 9\n",
      "INFO:root:handling label: 2\n",
      "INFO:root:handling label: 6\n"
     ]
    }
   ],
   "source": [
    "train_data, validation_data, test_data = mnist_data_load.load_data(seed=random_seed)"
   ]
  },
  {
   "cell_type": "code",
   "execution_count": 6,
   "metadata": {
    "execution": {
     "iopub.execute_input": "2020-09-16T12:09:54.504762Z",
     "iopub.status.busy": "2020-09-16T12:09:54.504434Z",
     "iopub.status.idle": "2020-09-16T12:09:54.625219Z",
     "shell.execute_reply": "2020-09-16T12:09:54.624398Z",
     "shell.execute_reply.started": "2020-09-16T12:09:54.504724Z"
    }
   },
   "outputs": [],
   "source": [
    "x_train, y_train = mnist_data_load.get_label_and_features_from_dataframe(train_data)"
   ]
  },
  {
   "cell_type": "code",
   "execution_count": 7,
   "metadata": {
    "execution": {
     "iopub.execute_input": "2020-09-16T12:09:55.106979Z",
     "iopub.status.busy": "2020-09-16T12:09:55.106720Z",
     "iopub.status.idle": "2020-09-16T12:09:55.113397Z",
     "shell.execute_reply": "2020-09-16T12:09:55.112599Z",
     "shell.execute_reply.started": "2020-09-16T12:09:55.106952Z"
    }
   },
   "outputs": [
    {
     "name": "stderr",
     "output_type": "stream",
     "text": [
      "INFO:root:(30360, 28, 28, 1)\n",
      "INFO:root:(30360,)\n",
      "INFO:root:float64\n"
     ]
    }
   ],
   "source": [
    "logging.info(x_train.shape)\n",
    "logging.info(y_train.shape)\n",
    "logging.info(x_train.dtype)"
   ]
  },
  {
   "cell_type": "markdown",
   "metadata": {},
   "source": [
    "## Defining Model"
   ]
  },
  {
   "cell_type": "code",
   "execution_count": 8,
   "metadata": {
    "execution": {
     "iopub.execute_input": "2020-09-16T12:09:56.258434Z",
     "iopub.status.busy": "2020-09-16T12:09:56.258211Z",
     "iopub.status.idle": "2020-09-16T12:09:56.262901Z",
     "shell.execute_reply": "2020-09-16T12:09:56.262209Z",
     "shell.execute_reply.started": "2020-09-16T12:09:56.258409Z"
    }
   },
   "outputs": [],
   "source": [
    "def get_model():\n",
    "    model = Sequential()\n",
    "    model.add(Conv2D(filters=8, kernel_size=(3, 3), kernel_initializer='he_normal',\n",
    "                     activation='relu', input_shape=(28, 28, 1))) \n",
    "    model.add(MaxPool2D())\n",
    "    model.add(Flatten())\n",
    "    model.add(Dense(units=100, activation='relu', kernel_initializer='he_normal'))\n",
    "    model.add(Dense(units=10, activation='softmax'))\n",
    "    return model"
   ]
  },
  {
   "cell_type": "code",
   "execution_count": 9,
   "metadata": {
    "execution": {
     "iopub.execute_input": "2020-09-16T12:09:56.786014Z",
     "iopub.status.busy": "2020-09-16T12:09:56.785806Z",
     "iopub.status.idle": "2020-09-16T12:09:57.371089Z",
     "shell.execute_reply": "2020-09-16T12:09:57.370434Z",
     "shell.execute_reply.started": "2020-09-16T12:09:56.785990Z"
    }
   },
   "outputs": [],
   "source": [
    "model_conv1_sparse = get_model()"
   ]
  },
  {
   "cell_type": "code",
   "execution_count": 10,
   "metadata": {
    "execution": {
     "iopub.execute_input": "2020-09-16T12:09:57.575888Z",
     "iopub.status.busy": "2020-09-16T12:09:57.575533Z",
     "iopub.status.idle": "2020-09-16T12:09:57.582217Z",
     "shell.execute_reply": "2020-09-16T12:09:57.581527Z",
     "shell.execute_reply.started": "2020-09-16T12:09:57.575851Z"
    }
   },
   "outputs": [
    {
     "name": "stdout",
     "output_type": "stream",
     "text": [
      "Model: \"sequential\"\n",
      "_________________________________________________________________\n",
      "Layer (type)                 Output Shape              Param #   \n",
      "=================================================================\n",
      "conv2d (Conv2D)              (None, 26, 26, 8)         80        \n",
      "_________________________________________________________________\n",
      "max_pooling2d (MaxPooling2D) (None, 13, 13, 8)         0         \n",
      "_________________________________________________________________\n",
      "flatten (Flatten)            (None, 1352)              0         \n",
      "_________________________________________________________________\n",
      "dense (Dense)                (None, 100)               135300    \n",
      "_________________________________________________________________\n",
      "dense_1 (Dense)              (None, 10)                1010      \n",
      "=================================================================\n",
      "Total params: 136,390\n",
      "Trainable params: 136,390\n",
      "Non-trainable params: 0\n",
      "_________________________________________________________________\n"
     ]
    }
   ],
   "source": [
    "model_conv1_sparse.summary()"
   ]
  },
  {
   "cell_type": "code",
   "execution_count": 11,
   "metadata": {
    "execution": {
     "iopub.execute_input": "2020-09-16T12:09:58.107908Z",
     "iopub.status.busy": "2020-09-16T12:09:58.107692Z",
     "iopub.status.idle": "2020-09-16T12:09:58.119597Z",
     "shell.execute_reply": "2020-09-16T12:09:58.118931Z",
     "shell.execute_reply.started": "2020-09-16T12:09:58.107883Z"
    }
   },
   "outputs": [],
   "source": [
    "model_conv1_sparse.compile(optimizer='adam', loss='sparse_categorical_crossentropy', metrics=['sparse_categorical_accuracy'])"
   ]
  },
  {
   "cell_type": "markdown",
   "metadata": {},
   "source": [
    "### Training the model"
   ]
  },
  {
   "cell_type": "code",
   "execution_count": 12,
   "metadata": {
    "execution": {
     "iopub.execute_input": "2020-09-16T12:09:59.448590Z",
     "iopub.status.busy": "2020-09-16T12:09:59.448347Z",
     "iopub.status.idle": "2020-09-16T12:10:12.178571Z",
     "shell.execute_reply": "2020-09-16T12:10:12.177818Z",
     "shell.execute_reply.started": "2020-09-16T12:09:59.448558Z"
    }
   },
   "outputs": [
    {
     "name": "stdout",
     "output_type": "stream",
     "text": [
      "Epoch 1/5\n",
      "949/949 [==============================] - 2s 2ms/step - loss: 6.5865 - sparse_categorical_accuracy: 0.8796\n",
      "Epoch 2/5\n",
      "949/949 [==============================] - 2s 2ms/step - loss: 0.6587 - sparse_categorical_accuracy: 0.9121\n",
      "Epoch 3/5\n",
      "949/949 [==============================] - 2s 2ms/step - loss: 0.2989 - sparse_categorical_accuracy: 0.9364\n",
      "Epoch 4/5\n",
      "949/949 [==============================] - 2s 2ms/step - loss: 0.2342 - sparse_categorical_accuracy: 0.9449\n",
      "Epoch 5/5\n",
      "949/949 [==============================] - 2s 2ms/step - loss: 0.1667 - sparse_categorical_accuracy: 0.9581\n"
     ]
    }
   ],
   "source": [
    "history_sparse = model_conv1_sparse.fit(x_train, y_train, batch_size=32, epochs=5, verbose=1)"
   ]
  },
  {
   "cell_type": "code",
   "execution_count": 15,
   "metadata": {
    "execution": {
     "iopub.execute_input": "2020-09-16T12:10:40.932292Z",
     "iopub.status.busy": "2020-09-16T12:10:40.932068Z",
     "iopub.status.idle": "2020-09-16T12:10:40.936824Z",
     "shell.execute_reply": "2020-09-16T12:10:40.935876Z",
     "shell.execute_reply.started": "2020-09-16T12:10:40.932268Z"
    }
   },
   "outputs": [],
   "source": [
    "with open('cnn_1x8_sparse_training.json', 'w') as file:\n",
    "    file.write(json.dumps(history_sparse.history))"
   ]
  },
  {
   "cell_type": "markdown",
   "metadata": {},
   "source": [
    "### Validating the model"
   ]
  },
  {
   "cell_type": "code",
   "execution_count": 16,
   "metadata": {
    "execution": {
     "iopub.execute_input": "2020-09-16T12:10:43.671415Z",
     "iopub.status.busy": "2020-09-16T12:10:43.671122Z",
     "iopub.status.idle": "2020-09-16T12:10:43.688303Z",
     "shell.execute_reply": "2020-09-16T12:10:43.687525Z",
     "shell.execute_reply.started": "2020-09-16T12:10:43.671387Z"
    }
   },
   "outputs": [],
   "source": [
    "x_val, y_val = mnist_data_load.get_label_and_features_from_dataframe(validation_data)"
   ]
  },
  {
   "cell_type": "code",
   "execution_count": 17,
   "metadata": {
    "execution": {
     "iopub.execute_input": "2020-09-16T12:10:44.001451Z",
     "iopub.status.busy": "2020-09-16T12:10:44.001006Z",
     "iopub.status.idle": "2020-09-16T12:10:44.009299Z",
     "shell.execute_reply": "2020-09-16T12:10:44.008484Z",
     "shell.execute_reply.started": "2020-09-16T12:10:44.001403Z"
    }
   },
   "outputs": [
    {
     "name": "stderr",
     "output_type": "stream",
     "text": [
      "INFO:root:(3790, 28, 28, 1)\n",
      "INFO:root:(3790,)\n",
      "INFO:root:float64\n"
     ]
    }
   ],
   "source": [
    "logging.info(x_val.shape)\n",
    "logging.info(y_val.shape)\n",
    "logging.info(x_val.dtype)"
   ]
  },
  {
   "cell_type": "code",
   "execution_count": 18,
   "metadata": {
    "execution": {
     "iopub.execute_input": "2020-09-16T12:10:44.418905Z",
     "iopub.status.busy": "2020-09-16T12:10:44.418583Z",
     "iopub.status.idle": "2020-09-16T12:10:44.994928Z",
     "shell.execute_reply": "2020-09-16T12:10:44.993954Z",
     "shell.execute_reply.started": "2020-09-16T12:10:44.418868Z"
    }
   },
   "outputs": [
    {
     "name": "stdout",
     "output_type": "stream",
     "text": [
      "119/119 [==============================] - 0s 2ms/step - loss: 0.2739 - sparse_categorical_accuracy: 0.9509\n"
     ]
    }
   ],
   "source": [
    "history_sparse_validation = model_conv1_sparse.evaluate(x_val, y_val, batch_size=32, verbose=1)"
   ]
  },
  {
   "cell_type": "code",
   "execution_count": 19,
   "metadata": {
    "execution": {
     "iopub.execute_input": "2020-09-16T12:10:44.996438Z",
     "iopub.status.busy": "2020-09-16T12:10:44.996216Z",
     "iopub.status.idle": "2020-09-16T12:10:45.032372Z",
     "shell.execute_reply": "2020-09-16T12:10:45.031018Z",
     "shell.execute_reply.started": "2020-09-16T12:10:44.996413Z"
    }
   },
   "outputs": [],
   "source": [
    "model_conv1_sparse.save('cnn_1x8_sparse.h5')"
   ]
  },
  {
   "cell_type": "markdown",
   "metadata": {},
   "source": [
    "## Checking Model performance"
   ]
  },
  {
   "cell_type": "code",
   "execution_count": 20,
   "metadata": {
    "execution": {
     "iopub.execute_input": "2020-09-16T12:10:45.974729Z",
     "iopub.status.busy": "2020-09-16T12:10:45.974462Z",
     "iopub.status.idle": "2020-09-16T12:10:46.101164Z",
     "shell.execute_reply": "2020-09-16T12:10:46.100187Z",
     "shell.execute_reply.started": "2020-09-16T12:10:45.974704Z"
    }
   },
   "outputs": [],
   "source": [
    "x_test, y_test = mnist_data_load.get_label_and_features_from_dataframe(train_data)"
   ]
  },
  {
   "cell_type": "code",
   "execution_count": 21,
   "metadata": {
    "execution": {
     "iopub.execute_input": "2020-09-16T12:10:46.391606Z",
     "iopub.status.busy": "2020-09-16T12:10:46.391386Z",
     "iopub.status.idle": "2020-09-16T12:10:46.400256Z",
     "shell.execute_reply": "2020-09-16T12:10:46.399266Z",
     "shell.execute_reply.started": "2020-09-16T12:10:46.391582Z"
    }
   },
   "outputs": [
    {
     "name": "stderr",
     "output_type": "stream",
     "text": [
      "INFO:root:(30360, 28, 28, 1)\n",
      "INFO:root:(30360,)\n",
      "INFO:root:float64\n"
     ]
    }
   ],
   "source": [
    "logging.info(x_test.shape)\n",
    "logging.info(y_train.shape)\n",
    "logging.info(x_train.dtype)"
   ]
  },
  {
   "cell_type": "code",
   "execution_count": 22,
   "metadata": {
    "execution": {
     "iopub.execute_input": "2020-09-16T12:10:46.848071Z",
     "iopub.status.busy": "2020-09-16T12:10:46.847832Z",
     "iopub.status.idle": "2020-09-16T12:10:48.427681Z",
     "shell.execute_reply": "2020-09-16T12:10:48.427053Z",
     "shell.execute_reply.started": "2020-09-16T12:10:46.848047Z"
    }
   },
   "outputs": [
    {
     "name": "stdout",
     "output_type": "stream",
     "text": [
      "949/949 [==============================] - 1s 1ms/step\n"
     ]
    }
   ],
   "source": [
    "prediction = model_conv1_sparse.predict(x_train, verbose=1)"
   ]
  },
  {
   "cell_type": "code",
   "execution_count": 23,
   "metadata": {
    "execution": {
     "iopub.execute_input": "2020-09-16T12:10:48.428977Z",
     "iopub.status.busy": "2020-09-16T12:10:48.428775Z",
     "iopub.status.idle": "2020-09-16T12:10:48.432403Z",
     "shell.execute_reply": "2020-09-16T12:10:48.431841Z",
     "shell.execute_reply.started": "2020-09-16T12:10:48.428953Z"
    }
   },
   "outputs": [
    {
     "name": "stderr",
     "output_type": "stream",
     "text": [
      "INFO:root:(30360, 10)\n"
     ]
    }
   ],
   "source": [
    "logging.info(prediction.shape)"
   ]
  },
  {
   "cell_type": "code",
   "execution_count": 24,
   "metadata": {
    "execution": {
     "iopub.execute_input": "2020-09-16T12:10:48.433768Z",
     "iopub.status.busy": "2020-09-16T12:10:48.433575Z",
     "iopub.status.idle": "2020-09-16T12:10:48.469614Z",
     "shell.execute_reply": "2020-09-16T12:10:48.468983Z",
     "shell.execute_reply.started": "2020-09-16T12:10:48.433745Z"
    }
   },
   "outputs": [],
   "source": [
    "prediction_index = np.argmax(prediction, axis=1)"
   ]
  },
  {
   "cell_type": "code",
   "execution_count": 25,
   "metadata": {
    "execution": {
     "iopub.execute_input": "2020-09-16T12:10:48.471056Z",
     "iopub.status.busy": "2020-09-16T12:10:48.470774Z",
     "iopub.status.idle": "2020-09-16T12:10:48.480441Z",
     "shell.execute_reply": "2020-09-16T12:10:48.479719Z",
     "shell.execute_reply.started": "2020-09-16T12:10:48.471018Z"
    }
   },
   "outputs": [
    {
     "name": "stderr",
     "output_type": "stream",
     "text": [
      "INFO:root:(30360,)\n"
     ]
    }
   ],
   "source": [
    "logging.info(prediction_index.shape)"
   ]
  },
  {
   "cell_type": "code",
   "execution_count": 26,
   "metadata": {
    "execution": {
     "iopub.execute_input": "2020-09-16T12:10:49.001858Z",
     "iopub.status.busy": "2020-09-16T12:10:49.001405Z",
     "iopub.status.idle": "2020-09-16T12:10:49.007438Z",
     "shell.execute_reply": "2020-09-16T12:10:49.006097Z",
     "shell.execute_reply.started": "2020-09-16T12:10:49.001799Z"
    }
   },
   "outputs": [],
   "source": [
    "prediciton_result = np.sum(prediction_index == y_test)"
   ]
  },
  {
   "cell_type": "code",
   "execution_count": 27,
   "metadata": {
    "execution": {
     "iopub.execute_input": "2020-09-16T12:10:49.488557Z",
     "iopub.status.busy": "2020-09-16T12:10:49.488321Z",
     "iopub.status.idle": "2020-09-16T12:10:49.493587Z",
     "shell.execute_reply": "2020-09-16T12:10:49.492736Z",
     "shell.execute_reply.started": "2020-09-16T12:10:49.488520Z"
    }
   },
   "outputs": [
    {
     "name": "stderr",
     "output_type": "stream",
     "text": [
      "INFO:root:0.9611660079051383\n"
     ]
    }
   ],
   "source": [
    "accuracy = prediciton_result/len(y_train)\n",
    "logging.info(accuracy)"
   ]
  },
  {
   "cell_type": "code",
   "execution_count": 28,
   "metadata": {
    "execution": {
     "iopub.execute_input": "2020-09-16T12:10:49.965133Z",
     "iopub.status.busy": "2020-09-16T12:10:49.964909Z",
     "iopub.status.idle": "2020-09-16T12:10:50.233328Z",
     "shell.execute_reply": "2020-09-16T12:10:50.232665Z",
     "shell.execute_reply.started": "2020-09-16T12:10:49.965108Z"
    }
   },
   "outputs": [
    {
     "data": {
      "image/png": "[encoded data removed]",
      "text/plain": [
       "<Figure size 720x360 with 2 Axes>"
      ]
     },
     "metadata": {
      "needs_background": "light"
     },
     "output_type": "display_data"
    }
   ],
   "source": [
    "plt.figure(figsize=(10, 5))\n",
    "plt1 = plt.subplot(1, 2, 1)\n",
    "plt1.plot(history_sparse.history['sparse_categorical_accuracy'], label='training')\n",
    "plt2 = plt.subplot(1, 2, 2)\n",
    "plt2.plot(history_sparse.history['loss'], label='validation')\n",
    "plt.show()"
   ]
  },
  {
   "cell_type": "markdown",
   "metadata": {},
   "source": [
    "## Model Visualization"
   ]
  },
  {
   "cell_type": "markdown",
   "metadata": {},
   "source": [
    "### Intermediate Model Generation"
   ]
  },
  {
   "cell_type": "code",
   "execution_count": 29,
   "metadata": {
    "execution": {
     "iopub.execute_input": "2020-09-16T12:10:51.310788Z",
     "iopub.status.busy": "2020-09-16T12:10:51.310432Z",
     "iopub.status.idle": "2020-09-16T12:10:51.319038Z",
     "shell.execute_reply": "2020-09-16T12:10:51.318255Z",
     "shell.execute_reply.started": "2020-09-16T12:10:51.310748Z"
    }
   },
   "outputs": [
    {
     "name": "stdout",
     "output_type": "stream",
     "text": [
      "Model: \"sequential\"\n",
      "_________________________________________________________________\n",
      "Layer (type)                 Output Shape              Param #   \n",
      "=================================================================\n",
      "conv2d (Conv2D)              (None, 26, 26, 8)         80        \n",
      "_________________________________________________________________\n",
      "max_pooling2d (MaxPooling2D) (None, 13, 13, 8)         0         \n",
      "_________________________________________________________________\n",
      "flatten (Flatten)            (None, 1352)              0         \n",
      "_________________________________________________________________\n",
      "dense (Dense)                (None, 100)               135300    \n",
      "_________________________________________________________________\n",
      "dense_1 (Dense)              (None, 10)                1010      \n",
      "=================================================================\n",
      "Total params: 136,390\n",
      "Trainable params: 136,390\n",
      "Non-trainable params: 0\n",
      "_________________________________________________________________\n"
     ]
    }
   ],
   "source": [
    "model_conv1_sparse.summary()"
   ]
  },
  {
   "cell_type": "code",
   "execution_count": 30,
   "metadata": {
    "execution": {
     "iopub.execute_input": "2020-09-16T12:10:51.754133Z",
     "iopub.status.busy": "2020-09-16T12:10:51.753918Z",
     "iopub.status.idle": "2020-09-16T12:10:51.760872Z",
     "shell.execute_reply": "2020-09-16T12:10:51.760106Z",
     "shell.execute_reply.started": "2020-09-16T12:10:51.754110Z"
    }
   },
   "outputs": [
    {
     "data": {
      "text/plain": [
       "{'name': 'conv2d',\n",
       " 'trainable': True,\n",
       " 'batch_input_shape': (None, 28, 28, 1),\n",
       " 'dtype': 'float32',\n",
       " 'filters': 8,\n",
       " 'kernel_size': (3, 3),\n",
       " 'strides': (1, 1),\n",
       " 'padding': 'valid',\n",
       " 'data_format': 'channels_last',\n",
       " 'dilation_rate': (1, 1),\n",
       " 'activation': 'relu',\n",
       " 'use_bias': True,\n",
       " 'kernel_initializer': {'class_name': 'VarianceScaling',\n",
       "  'config': {'scale': 2.0,\n",
       "   'mode': 'fan_in',\n",
       "   'distribution': 'truncated_normal',\n",
       "   'seed': None}},\n",
       " 'bias_initializer': {'class_name': 'Zeros', 'config': {}},\n",
       " 'kernel_regularizer': None,\n",
       " 'bias_regularizer': None,\n",
       " 'activity_regularizer': None,\n",
       " 'kernel_constraint': None,\n",
       " 'bias_constraint': None}"
      ]
     },
     "execution_count": 30,
     "metadata": {},
     "output_type": "execute_result"
    }
   ],
   "source": [
    "conv1_layer = model_conv1_sparse.get_layer('conv2d')\n",
    "conv1_layer.get_config()"
   ]
  },
  {
   "cell_type": "code",
   "execution_count": 31,
   "metadata": {
    "execution": {
     "iopub.execute_input": "2020-09-16T12:10:52.262569Z",
     "iopub.status.busy": "2020-09-16T12:10:52.262351Z",
     "iopub.status.idle": "2020-09-16T12:10:52.276114Z",
     "shell.execute_reply": "2020-09-16T12:10:52.275584Z",
     "shell.execute_reply.started": "2020-09-16T12:10:52.262545Z"
    }
   },
   "outputs": [],
   "source": [
    "model_intermediate = Sequential()\n",
    "model_intermediate.add(conv1_layer)"
   ]
  },
  {
   "cell_type": "markdown",
   "metadata": {},
   "source": [
    "### Model Weights"
   ]
  },
  {
   "cell_type": "code",
   "execution_count": 33,
   "metadata": {
    "execution": {
     "iopub.execute_input": "2020-09-16T12:10:53.709322Z",
     "iopub.status.busy": "2020-09-16T12:10:53.709071Z",
     "iopub.status.idle": "2020-09-16T12:10:53.713954Z",
     "shell.execute_reply": "2020-09-16T12:10:53.713210Z",
     "shell.execute_reply.started": "2020-09-16T12:10:53.709283Z"
    }
   },
   "outputs": [],
   "source": [
    "conv1_layer_w = conv1_layer.get_weights()"
   ]
  },
  {
   "cell_type": "code",
   "execution_count": 34,
   "metadata": {
    "execution": {
     "iopub.execute_input": "2020-09-16T12:10:54.198548Z",
     "iopub.status.busy": "2020-09-16T12:10:54.198209Z",
     "iopub.status.idle": "2020-09-16T12:10:54.205595Z",
     "shell.execute_reply": "2020-09-16T12:10:54.204797Z",
     "shell.execute_reply.started": "2020-09-16T12:10:54.198500Z"
    }
   },
   "outputs": [
    {
     "name": "stderr",
     "output_type": "stream",
     "text": [
      "INFO:root:<class 'list'>\n",
      "INFO:root:(2,)\n"
     ]
    }
   ],
   "source": [
    "logging.info(type(conv1_layer_w))\n",
    "conv1_layer_w = np.array(conv1_layer_w, dtype=object)\n",
    "logging.info(conv1_layer_w.shape)"
   ]
  },
  {
   "cell_type": "code",
   "execution_count": 35,
   "metadata": {
    "execution": {
     "iopub.execute_input": "2020-09-16T12:10:54.620180Z",
     "iopub.status.busy": "2020-09-16T12:10:54.619959Z",
     "iopub.status.idle": "2020-09-16T12:10:54.626030Z",
     "shell.execute_reply": "2020-09-16T12:10:54.624996Z",
     "shell.execute_reply.started": "2020-09-16T12:10:54.620155Z"
    }
   },
   "outputs": [
    {
     "name": "stderr",
     "output_type": "stream",
     "text": [
      "INFO:root:(3, 3, 1, 8)\n",
      "INFO:root:(8,)\n"
     ]
    }
   ],
   "source": [
    "for w in conv1_layer_w:\n",
    "    logging.info(w.shape)"
   ]
  },
  {
   "cell_type": "markdown",
   "metadata": {},
   "source": [
    "Here we can see that the 1st weight denotes the filter values which has a dimension 3x3x1 and as there are 8 filters used, so we have the depth of 8 i.e. 3x3x1x8\n",
    "\n",
    "The 2nd weight denotes the bias that was added to these weights."
   ]
  },
  {
   "cell_type": "code",
   "execution_count": 36,
   "metadata": {
    "execution": {
     "iopub.execute_input": "2020-09-16T12:10:55.533494Z",
     "iopub.status.busy": "2020-09-16T12:10:55.533253Z",
     "iopub.status.idle": "2020-09-16T12:10:56.237973Z",
     "shell.execute_reply": "2020-09-16T12:10:56.237288Z",
     "shell.execute_reply.started": "2020-09-16T12:10:55.533466Z"
    }
   },
   "outputs": [
    {
     "data": {
      "image/png": "[encoded data removed]",
      "text/plain": [
       "<Figure size 720x360 with 8 Axes>"
      ]
     },
     "metadata": {
      "needs_background": "light"
     },
     "output_type": "display_data"
    }
   ],
   "source": [
    "plt.figure(figsize=(10, 5))\n",
    "for i in range(8):\n",
    "    subplt = plt.subplot(2, 4, i+1)\n",
    "    subplt.imshow(conv1_layer_w[0][:, :, :, i].reshape((3,3)), cmap='gray')\n",
    "plt.show()"
   ]
  },
  {
   "cell_type": "markdown",
   "metadata": {},
   "source": [
    "### Model Convolution output visualization"
   ]
  },
  {
   "cell_type": "code",
   "execution_count": 37,
   "metadata": {
    "execution": {
     "iopub.execute_input": "2020-09-16T12:10:56.790318Z",
     "iopub.status.busy": "2020-09-16T12:10:56.789988Z",
     "iopub.status.idle": "2020-09-16T12:10:56.943482Z",
     "shell.execute_reply": "2020-09-16T12:10:56.942382Z",
     "shell.execute_reply.started": "2020-09-16T12:10:56.790268Z"
    }
   },
   "outputs": [
    {
     "data": {
      "image/png": "[encoded data removed]",
      "text/plain": [
       "<Figure size 432x288 with 1 Axes>"
      ]
     },
     "metadata": {
      "needs_background": "light"
     },
     "output_type": "display_data"
    }
   ],
   "source": [
    "rand_index = random.randint(0, x_test.shape[0])\n",
    "example_data = x_test[rand_index]\n",
    "plt.imshow(example_data, cmap='gray')\n",
    "plt.show()"
   ]
  },
  {
   "cell_type": "code",
   "execution_count": 38,
   "metadata": {
    "execution": {
     "iopub.execute_input": "2020-09-16T12:10:57.499088Z",
     "iopub.status.busy": "2020-09-16T12:10:57.498807Z",
     "iopub.status.idle": "2020-09-16T12:10:57.562799Z",
     "shell.execute_reply": "2020-09-16T12:10:57.562118Z",
     "shell.execute_reply.started": "2020-09-16T12:10:57.499058Z"
    }
   },
   "outputs": [],
   "source": [
    "conv_output = model_intermediate.predict(example_data.reshape((1, 28, 28, 1)))"
   ]
  },
  {
   "cell_type": "code",
   "execution_count": 39,
   "metadata": {
    "execution": {
     "iopub.execute_input": "2020-09-16T12:10:58.020875Z",
     "iopub.status.busy": "2020-09-16T12:10:58.020656Z",
     "iopub.status.idle": "2020-09-16T12:10:58.025039Z",
     "shell.execute_reply": "2020-09-16T12:10:58.024136Z",
     "shell.execute_reply.started": "2020-09-16T12:10:58.020851Z"
    }
   },
   "outputs": [
    {
     "name": "stderr",
     "output_type": "stream",
     "text": [
      "INFO:root:(1, 26, 26, 8)\n"
     ]
    }
   ],
   "source": [
    "logging.info(conv_output.shape)"
   ]
  },
  {
   "cell_type": "code",
   "execution_count": 40,
   "metadata": {
    "execution": {
     "iopub.execute_input": "2020-09-16T12:10:58.843417Z",
     "iopub.status.busy": "2020-09-16T12:10:58.843160Z",
     "iopub.status.idle": "2020-09-16T12:10:58.850422Z",
     "shell.execute_reply": "2020-09-16T12:10:58.849670Z",
     "shell.execute_reply.started": "2020-09-16T12:10:58.843392Z"
    }
   },
   "outputs": [],
   "source": [
    "def conv1_test_output(num_examples):\n",
    "    random_index = [random.randint(0, x_test.shape[0]) for i in range(num_examples)]\n",
    "    random_feats = x_test[random_index]\n",
    "    assert len(random_feats.shape) == 4\n",
    "    predicts = model_intermediate.predict(random_feats)\n",
    "    for index, p in enumerate(predicts):\n",
    "        fig = plt.figure(figsize=(16, 3), constrained_layout=True)\n",
    "        grid = gridspec.GridSpec(1, 3, figure=fig)\n",
    "        grid0 = grid[0]\n",
    "        grid1 = grid[1].subgridspec(2, 4)\n",
    "        grid2 = grid[2].subgridspec(2, 4)\n",
    "        fig.add_subplot(grid0).imshow(random_feats[index], cmap='gray')\n",
    "        for i in range(8):\n",
    "            row = i // 4\n",
    "            col = i % 4\n",
    "            subplt = fig.add_subplot(grid1[row, col])\n",
    "            subplt.imshow(conv1_layer_w[0][:, :, :, i].reshape((3,3)), cmap='gray')\n",
    "        for i in range(8):\n",
    "            row = i //4\n",
    "            col = i % 4\n",
    "            subplt = fig.add_subplot(grid2[row, col])\n",
    "            subplt.imshow(p[:, :, i], cmap='gray')\n",
    "        plt.show()"
   ]
  },
  {
   "cell_type": "code",
   "execution_count": 41,
   "metadata": {
    "execution": {
     "iopub.execute_input": "2020-09-16T12:10:59.596247Z",
     "iopub.status.busy": "2020-09-16T12:10:59.596033Z",
     "iopub.status.idle": "2020-09-16T12:11:06.051898Z",
     "shell.execute_reply": "2020-09-16T12:11:06.051250Z",
     "shell.execute_reply.started": "2020-09-16T12:10:59.596223Z"
    }
   },
   "outputs": [
    {
     "data": {
      "image/png": "[encoded data removed]",
      "text/plain": [
       "<Figure size 1152x216 with 17 Axes>"
      ]
     },
     "metadata": {
      "needs_background": "light"
     },
     "output_type": "display_data"
    },
    {
     "data": {
      "image/png": "[encoded data removed]",
      "text/plain": [
       "<Figure size 1152x216 with 17 Axes>"
      ]
     },
     "metadata": {
      "needs_background": "light"
     },
     "output_type": "display_data"
    },
    {
     "data": {
      "image/png": "[encoded data removed]",
      "text/plain": [
       "<Figure size 1152x216 with 17 Axes>"
      ]
     },
     "metadata": {
      "needs_background": "light"
     },
     "output_type": "display_data"
    }
   ],
   "source": [
    "conv1_test_output(3)"
   ]
  },
  {
   "cell_type": "code",
   "execution_count": null,
   "metadata": {},
   "outputs": [],
   "source": []
  }
 ],
 "metadata": {
  "kernelspec": {
   "display_name": "Python 3",
   "language": "python",
   "name": "python3"
  },
  "language_info": {
   "codemirror_mode": {
    "name": "ipython",
    "version": 3
   },
   "file_extension": ".py",
   "mimetype": "text/x-python",
   "name": "python",
   "nbconvert_exporter": "python",
   "pygments_lexer": "ipython3",
   "version": "3.8.3"
  },
  "toc-autonumbering": true,
  "toc-showcode": false,
  "toc-showmarkdowntxt": false
 },
 "nbformat": 4,
 "nbformat_minor": 4
}
