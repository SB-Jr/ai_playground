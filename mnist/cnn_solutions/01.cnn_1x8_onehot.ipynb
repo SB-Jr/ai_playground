{
 "cells": [
  {
   "cell_type": "markdown",
   "metadata": {},
   "source": [
    "# Initial Setup"
   ]
  },
  {
   "cell_type": "markdown",
   "metadata": {},
   "source": [
    "We can see here that the model with the following criteria:\n",
    "- 1 Convolution Hidden Layer\n",
    "   - 8 Convolution Filter\n",
    "   - Relu Activation\n",
    "   - 1 Max Pooling layer with stride = 2\n",
    "   - `he_normal` initializer\n",
    "- 1 Hidden layer\n",
    "   - 100 nodes in layer\n",
    "   - Relu Activation\n",
    "   - `he_normal` initializer\n",
    "- Categorical Cross Entropy loss function\n",
    "- One hot encoded labels as target\n",
    "- Adam optimizer"
   ]
  },
  {
   "cell_type": "markdown",
   "metadata": {},
   "source": [
    "## Imports"
   ]
  },
  {
   "cell_type": "code",
   "execution_count": 1,
   "metadata": {
    "execution": {
     "iopub.execute_input": "2020-09-16T11:08:19.749787Z",
     "iopub.status.busy": "2020-09-16T11:08:19.749524Z",
     "iopub.status.idle": "2020-09-16T11:08:21.580291Z",
     "shell.execute_reply": "2020-09-16T11:08:21.579517Z",
     "shell.execute_reply.started": "2020-09-16T11:08:19.749759Z"
    }
   },
   "outputs": [],
   "source": [
    "import mnist_data_load\n",
    "import pandas as pd\n",
    "import numpy as np\n",
    "import logging\n",
    "import random\n",
    "import matplotlib.pyplot as plt\n",
    "import matplotlib.gridspec as gridspec\n",
    "from tensorflow.keras.models import Sequential\n",
    "from tensorflow.keras.layers import Dense\n",
    "from tensorflow.keras.layers import Conv2D\n",
    "from tensorflow.keras.layers import MaxPool2D\n",
    "from tensorflow.keras.layers import Flatten\n",
    "from tensorflow.keras.metrics import Precision\n",
    "from tensorflow.keras.metrics import Recall\n",
    "import tensorflow as tf"
   ]
  },
  {
   "cell_type": "markdown",
   "metadata": {},
   "source": [
    "## Logging"
   ]
  },
  {
   "cell_type": "code",
   "execution_count": 2,
   "metadata": {
    "execution": {
     "iopub.execute_input": "2020-09-16T11:08:21.581336Z",
     "iopub.status.busy": "2020-09-16T11:08:21.581163Z",
     "iopub.status.idle": "2020-09-16T11:08:21.584381Z",
     "shell.execute_reply": "2020-09-16T11:08:21.583596Z",
     "shell.execute_reply.started": "2020-09-16T11:08:21.581313Z"
    }
   },
   "outputs": [],
   "source": [
    "get_logging = True"
   ]
  },
  {
   "cell_type": "code",
   "execution_count": 3,
   "metadata": {
    "execution": {
     "iopub.execute_input": "2020-09-16T11:08:21.585876Z",
     "iopub.status.busy": "2020-09-16T11:08:21.585661Z",
     "iopub.status.idle": "2020-09-16T11:08:21.621321Z",
     "shell.execute_reply": "2020-09-16T11:08:21.620740Z",
     "shell.execute_reply.started": "2020-09-16T11:08:21.585852Z"
    }
   },
   "outputs": [],
   "source": [
    "if get_logging:\n",
    "    logging.getLogger().setLevel(logging.INFO)"
   ]
  },
  {
   "cell_type": "code",
   "execution_count": 4,
   "metadata": {
    "execution": {
     "iopub.execute_input": "2020-09-16T11:08:21.622353Z",
     "iopub.status.busy": "2020-09-16T11:08:21.622159Z",
     "iopub.status.idle": "2020-09-16T11:08:21.633547Z",
     "shell.execute_reply": "2020-09-16T11:08:21.632747Z",
     "shell.execute_reply.started": "2020-09-16T11:08:21.622325Z"
    }
   },
   "outputs": [],
   "source": [
    "random_seed = 100\n",
    "np.random.seed(random_seed)\n",
    "tf.random.set_seed(random_seed)"
   ]
  },
  {
   "cell_type": "markdown",
   "metadata": {},
   "source": [
    "## Check GPU status"
   ]
  },
  {
   "cell_type": "code",
   "execution_count": 5,
   "metadata": {
    "execution": {
     "iopub.execute_input": "2020-09-16T11:08:22.528470Z",
     "iopub.status.busy": "2020-09-16T11:08:22.528236Z",
     "iopub.status.idle": "2020-09-16T11:08:22.573334Z",
     "shell.execute_reply": "2020-09-16T11:08:22.572618Z",
     "shell.execute_reply.started": "2020-09-16T11:08:22.528445Z"
    }
   },
   "outputs": [],
   "source": [
    "assert len(tf.config.experimental.list_physical_devices('GPU')) == 1"
   ]
  },
  {
   "cell_type": "markdown",
   "metadata": {},
   "source": [
    "# Load the data"
   ]
  },
  {
   "cell_type": "code",
   "execution_count": 7,
   "metadata": {
    "execution": {
     "iopub.execute_input": "2020-09-16T11:09:16.856085Z",
     "iopub.status.busy": "2020-09-16T11:09:16.855859Z",
     "iopub.status.idle": "2020-09-16T11:09:20.666104Z",
     "shell.execute_reply": "2020-09-16T11:09:20.665452Z",
     "shell.execute_reply.started": "2020-09-16T11:09:16.856060Z"
    }
   },
   "outputs": [
    {
     "name": "stderr",
     "output_type": "stream",
     "text": [
      "INFO:root:handling label: 1\n",
      "INFO:root:handling label: 0\n",
      "INFO:root:handling label: 4\n",
      "INFO:root:handling label: 7\n",
      "INFO:root:handling label: 3\n",
      "INFO:root:handling label: 5\n",
      "INFO:root:handling label: 8\n",
      "INFO:root:handling label: 9\n",
      "INFO:root:handling label: 2\n",
      "INFO:root:handling label: 6\n"
     ]
    }
   ],
   "source": [
    "train_data, validation_data, test_data = mnist_data_load.load_data(seed=random_seed)"
   ]
  },
  {
   "cell_type": "code",
   "execution_count": 8,
   "metadata": {
    "execution": {
     "iopub.execute_input": "2020-09-16T11:09:21.742972Z",
     "iopub.status.busy": "2020-09-16T11:09:21.742733Z",
     "iopub.status.idle": "2020-09-16T11:09:21.855197Z",
     "shell.execute_reply": "2020-09-16T11:09:21.854444Z",
     "shell.execute_reply.started": "2020-09-16T11:09:21.742944Z"
    }
   },
   "outputs": [],
   "source": [
    "x_train, y_train = mnist_data_load.get_label_and_features_from_dataframe(train_data)"
   ]
  },
  {
   "cell_type": "code",
   "execution_count": 9,
   "metadata": {
    "execution": {
     "iopub.execute_input": "2020-09-16T11:09:22.252901Z",
     "iopub.status.busy": "2020-09-16T11:09:22.252680Z",
     "iopub.status.idle": "2020-09-16T11:09:22.257247Z",
     "shell.execute_reply": "2020-09-16T11:09:22.256425Z",
     "shell.execute_reply.started": "2020-09-16T11:09:22.252878Z"
    }
   },
   "outputs": [],
   "source": [
    "y_train_one_hot = tf.keras.utils.to_categorical(y_train, 10)"
   ]
  },
  {
   "cell_type": "code",
   "execution_count": 10,
   "metadata": {
    "execution": {
     "iopub.execute_input": "2020-09-16T11:09:22.801894Z",
     "iopub.status.busy": "2020-09-16T11:09:22.801639Z",
     "iopub.status.idle": "2020-09-16T11:09:22.810057Z",
     "shell.execute_reply": "2020-09-16T11:09:22.809348Z",
     "shell.execute_reply.started": "2020-09-16T11:09:22.801868Z"
    }
   },
   "outputs": [
    {
     "name": "stderr",
     "output_type": "stream",
     "text": [
      "INFO:root:(30360, 28, 28, 1)\n",
      "INFO:root:(30360,)\n",
      "INFO:root:[0 1 2 3 4 5 6 7 8 9]\n",
      "INFO:root:(30360, 10)\n"
     ]
    }
   ],
   "source": [
    "logging.info(x_train.shape)\n",
    "logging.info(y_train.shape)\n",
    "logging.info(np.unique(y_train))\n",
    "logging.info(y_train_one_hot.shape)"
   ]
  },
  {
   "cell_type": "markdown",
   "metadata": {},
   "source": [
    "# Model"
   ]
  },
  {
   "cell_type": "code",
   "execution_count": 11,
   "metadata": {
    "execution": {
     "iopub.execute_input": "2020-09-16T11:09:26.066556Z",
     "iopub.status.busy": "2020-09-16T11:09:26.066221Z",
     "iopub.status.idle": "2020-09-16T11:09:26.074281Z",
     "shell.execute_reply": "2020-09-16T11:09:26.073228Z",
     "shell.execute_reply.started": "2020-09-16T11:09:26.066515Z"
    }
   },
   "outputs": [],
   "source": [
    "def get_basic_model() -> Sequential:\n",
    "    model = Sequential()\n",
    "    model.add(Conv2D(filters=8, kernel_size=(3, 3), activation='relu',\n",
    "                     kernel_initializer='he_uniform', input_shape=(28, 28, 1)))\n",
    "    model.add(MaxPool2D(pool_size=(2, 2)))\n",
    "    model.add(Flatten())\n",
    "    model.add(Dense(100, kernel_initializer='he_uniform', activation='relu'))\n",
    "    model.add(Dense(10, activation='softmax'))\n",
    "    return model"
   ]
  },
  {
   "cell_type": "code",
   "execution_count": 12,
   "metadata": {
    "execution": {
     "iopub.execute_input": "2020-09-16T11:09:26.693161Z",
     "iopub.status.busy": "2020-09-16T11:09:26.692945Z",
     "iopub.status.idle": "2020-09-16T11:09:27.297731Z",
     "shell.execute_reply": "2020-09-16T11:09:27.296999Z",
     "shell.execute_reply.started": "2020-09-16T11:09:26.693137Z"
    }
   },
   "outputs": [],
   "source": [
    "basic_model = get_basic_model()"
   ]
  },
  {
   "cell_type": "code",
   "execution_count": 13,
   "metadata": {
    "execution": {
     "iopub.execute_input": "2020-09-16T11:09:27.830284Z",
     "iopub.status.busy": "2020-09-16T11:09:27.830056Z",
     "iopub.status.idle": "2020-09-16T11:09:27.853654Z",
     "shell.execute_reply": "2020-09-16T11:09:27.852961Z",
     "shell.execute_reply.started": "2020-09-16T11:09:27.830261Z"
    }
   },
   "outputs": [],
   "source": [
    "basic_model.compile(optimizer='adam', loss='categorical_crossentropy', metrics=['accuracy', Precision(), Recall()])"
   ]
  },
  {
   "cell_type": "code",
   "execution_count": 14,
   "metadata": {
    "execution": {
     "iopub.execute_input": "2020-09-16T11:09:28.964757Z",
     "iopub.status.busy": "2020-09-16T11:09:28.964538Z",
     "iopub.status.idle": "2020-09-16T11:09:28.971507Z",
     "shell.execute_reply": "2020-09-16T11:09:28.970869Z",
     "shell.execute_reply.started": "2020-09-16T11:09:28.964732Z"
    }
   },
   "outputs": [
    {
     "name": "stdout",
     "output_type": "stream",
     "text": [
      "Model: \"sequential\"\n",
      "_________________________________________________________________\n",
      "Layer (type)                 Output Shape              Param #   \n",
      "=================================================================\n",
      "conv2d (Conv2D)              (None, 26, 26, 8)         80        \n",
      "_________________________________________________________________\n",
      "max_pooling2d (MaxPooling2D) (None, 13, 13, 8)         0         \n",
      "_________________________________________________________________\n",
      "flatten (Flatten)            (None, 1352)              0         \n",
      "_________________________________________________________________\n",
      "dense (Dense)                (None, 100)               135300    \n",
      "_________________________________________________________________\n",
      "dense_1 (Dense)              (None, 10)                1010      \n",
      "=================================================================\n",
      "Total params: 136,390\n",
      "Trainable params: 136,390\n",
      "Non-trainable params: 0\n",
      "_________________________________________________________________\n"
     ]
    }
   ],
   "source": [
    "basic_model.summary()"
   ]
  },
  {
   "cell_type": "markdown",
   "metadata": {},
   "source": [
    "## Training"
   ]
  },
  {
   "cell_type": "code",
   "execution_count": 15,
   "metadata": {
    "execution": {
     "iopub.execute_input": "2020-09-16T11:09:31.375282Z",
     "iopub.status.busy": "2020-09-16T11:09:31.375060Z",
     "iopub.status.idle": "2020-09-16T11:09:31.378423Z",
     "shell.execute_reply": "2020-09-16T11:09:31.377558Z",
     "shell.execute_reply.started": "2020-09-16T11:09:31.375259Z"
    }
   },
   "outputs": [],
   "source": [
    "# setting basic hyperparameters\n",
    "#learning_rate = 0.01\n",
    "batch_size = 32\n",
    "epochs = 5"
   ]
  },
  {
   "cell_type": "code",
   "execution_count": 16,
   "metadata": {
    "execution": {
     "iopub.execute_input": "2020-09-16T11:09:32.203503Z",
     "iopub.status.busy": "2020-09-16T11:09:32.203279Z",
     "iopub.status.idle": "2020-09-16T11:09:48.041781Z",
     "shell.execute_reply": "2020-09-16T11:09:48.041053Z",
     "shell.execute_reply.started": "2020-09-16T11:09:32.203479Z"
    }
   },
   "outputs": [
    {
     "name": "stdout",
     "output_type": "stream",
     "text": [
      "Epoch 1/5\n",
      "949/949 [==============================] - 3s 3ms/step - loss: 3.2500 - accuracy: 0.8732 - precision: 0.8748 - recall: 0.8718\n",
      "Epoch 2/5\n",
      "949/949 [==============================] - 3s 3ms/step - loss: 0.3487 - accuracy: 0.9319 - precision: 0.9416 - recall: 0.9251\n",
      "Epoch 3/5\n",
      "949/949 [==============================] - 3s 3ms/step - loss: 0.1968 - accuracy: 0.9547 - precision: 0.9626 - recall: 0.9493\n",
      "Epoch 4/5\n",
      "949/949 [==============================] - 3s 3ms/step - loss: 0.1514 - accuracy: 0.9624 - precision: 0.9681 - recall: 0.9590\n",
      "Epoch 5/5\n",
      "949/949 [==============================] - 3s 3ms/step - loss: 0.1162 - accuracy: 0.9695 - precision: 0.9742 - recall: 0.9665\n"
     ]
    }
   ],
   "source": [
    "history_train = basic_model.fit(x_train, y_train_one_hot, batch_size=batch_size, epochs=epochs, verbose=1)"
   ]
  },
  {
   "cell_type": "markdown",
   "metadata": {},
   "source": [
    "## Validation"
   ]
  },
  {
   "cell_type": "code",
   "execution_count": 17,
   "metadata": {
    "execution": {
     "iopub.execute_input": "2020-09-16T11:09:52.525009Z",
     "iopub.status.busy": "2020-09-16T11:09:52.524768Z",
     "iopub.status.idle": "2020-09-16T11:09:52.546226Z",
     "shell.execute_reply": "2020-09-16T11:09:52.545374Z",
     "shell.execute_reply.started": "2020-09-16T11:09:52.524981Z"
    }
   },
   "outputs": [],
   "source": [
    "x_val, y_val = mnist_data_load.get_label_and_features_from_dataframe(validation_data)"
   ]
  },
  {
   "cell_type": "code",
   "execution_count": 18,
   "metadata": {
    "execution": {
     "iopub.execute_input": "2020-09-16T11:09:54.518782Z",
     "iopub.status.busy": "2020-09-16T11:09:54.518551Z",
     "iopub.status.idle": "2020-09-16T11:09:54.522911Z",
     "shell.execute_reply": "2020-09-16T11:09:54.521799Z",
     "shell.execute_reply.started": "2020-09-16T11:09:54.518757Z"
    }
   },
   "outputs": [],
   "source": [
    "y_val_one_hot = tf.keras.utils.to_categorical(y_val, 10)"
   ]
  },
  {
   "cell_type": "code",
   "execution_count": 19,
   "metadata": {
    "execution": {
     "iopub.execute_input": "2020-09-16T11:09:55.121820Z",
     "iopub.status.busy": "2020-09-16T11:09:55.121578Z",
     "iopub.status.idle": "2020-09-16T11:09:55.128429Z",
     "shell.execute_reply": "2020-09-16T11:09:55.127425Z",
     "shell.execute_reply.started": "2020-09-16T11:09:55.121797Z"
    }
   },
   "outputs": [
    {
     "name": "stderr",
     "output_type": "stream",
     "text": [
      "INFO:root:(3790, 28, 28, 1)\n",
      "INFO:root:(3790,)\n",
      "INFO:root:(3790, 10)\n"
     ]
    }
   ],
   "source": [
    "logging.info(x_val.shape)\n",
    "logging.info(y_val.shape)\n",
    "logging.info(y_val_one_hot.shape)"
   ]
  },
  {
   "cell_type": "code",
   "execution_count": 20,
   "metadata": {
    "execution": {
     "iopub.execute_input": "2020-09-16T11:09:55.877457Z",
     "iopub.status.busy": "2020-09-16T11:09:55.877215Z",
     "iopub.status.idle": "2020-09-16T11:09:56.610177Z",
     "shell.execute_reply": "2020-09-16T11:09:56.609114Z",
     "shell.execute_reply.started": "2020-09-16T11:09:55.877432Z"
    }
   },
   "outputs": [
    {
     "name": "stdout",
     "output_type": "stream",
     "text": [
      "119/119 [==============================] - 0s 3ms/step - loss: 0.2639 - accuracy: 0.9520 - precision: 0.9580 - recall: 0.9507\n"
     ]
    }
   ],
   "source": [
    "history_validation = basic_model.evaluate(x_val, y_val_one_hot, batch_size=batch_size, verbose=1)"
   ]
  },
  {
   "cell_type": "markdown",
   "metadata": {},
   "source": [
    "## Testing"
   ]
  },
  {
   "cell_type": "code",
   "execution_count": 21,
   "metadata": {
    "execution": {
     "iopub.execute_input": "2020-09-16T11:09:57.837315Z",
     "iopub.status.busy": "2020-09-16T11:09:57.836980Z",
     "iopub.status.idle": "2020-09-16T11:09:57.869171Z",
     "shell.execute_reply": "2020-09-16T11:09:57.868422Z",
     "shell.execute_reply.started": "2020-09-16T11:09:57.837277Z"
    }
   },
   "outputs": [],
   "source": [
    "x_test, y_test = mnist_data_load.get_label_and_features_from_dataframe(test_data)"
   ]
  },
  {
   "cell_type": "code",
   "execution_count": 22,
   "metadata": {
    "execution": {
     "iopub.execute_input": "2020-09-16T11:09:58.570970Z",
     "iopub.status.busy": "2020-09-16T11:09:58.570748Z",
     "iopub.status.idle": "2020-09-16T11:09:58.574765Z",
     "shell.execute_reply": "2020-09-16T11:09:58.574136Z",
     "shell.execute_reply.started": "2020-09-16T11:09:58.570946Z"
    }
   },
   "outputs": [],
   "source": [
    "y_test_one_hot = tf.keras.utils.to_categorical(y_test, 10)"
   ]
  },
  {
   "cell_type": "code",
   "execution_count": 23,
   "metadata": {
    "execution": {
     "iopub.execute_input": "2020-09-16T11:09:59.448589Z",
     "iopub.status.busy": "2020-09-16T11:09:59.448362Z",
     "iopub.status.idle": "2020-09-16T11:09:59.454806Z",
     "shell.execute_reply": "2020-09-16T11:09:59.454047Z",
     "shell.execute_reply.started": "2020-09-16T11:09:59.448564Z"
    }
   },
   "outputs": [
    {
     "name": "stderr",
     "output_type": "stream",
     "text": [
      "INFO:root:(7850, 28, 28, 1)\n",
      "INFO:root:(7850,)\n",
      "INFO:root:(7850, 10)\n"
     ]
    }
   ],
   "source": [
    "logging.info(x_test.shape)\n",
    "logging.info(y_test.shape)\n",
    "logging.info(y_test_one_hot.shape)"
   ]
  },
  {
   "cell_type": "code",
   "execution_count": 24,
   "metadata": {
    "execution": {
     "iopub.execute_input": "2020-09-16T11:10:00.240064Z",
     "iopub.status.busy": "2020-09-16T11:10:00.239701Z",
     "iopub.status.idle": "2020-09-16T11:10:00.862183Z",
     "shell.execute_reply": "2020-09-16T11:10:00.861161Z",
     "shell.execute_reply.started": "2020-09-16T11:10:00.240021Z"
    }
   },
   "outputs": [
    {
     "name": "stdout",
     "output_type": "stream",
     "text": [
      "246/246 [==============================] - 0s 2ms/step\n"
     ]
    }
   ],
   "source": [
    "prediction = basic_model.predict(x_test, verbose=1)"
   ]
  },
  {
   "cell_type": "code",
   "execution_count": 25,
   "metadata": {
    "execution": {
     "iopub.execute_input": "2020-09-16T11:10:03.301454Z",
     "iopub.status.busy": "2020-09-16T11:10:03.301237Z",
     "iopub.status.idle": "2020-09-16T11:10:03.306896Z",
     "shell.execute_reply": "2020-09-16T11:10:03.306150Z",
     "shell.execute_reply.started": "2020-09-16T11:10:03.301430Z"
    }
   },
   "outputs": [
    {
     "data": {
      "text/plain": [
       "7850"
      ]
     },
     "execution_count": 25,
     "metadata": {},
     "output_type": "execute_result"
    }
   ],
   "source": [
    "len(prediction)"
   ]
  },
  {
   "cell_type": "code",
   "execution_count": 26,
   "metadata": {
    "execution": {
     "iopub.execute_input": "2020-09-16T11:10:03.917836Z",
     "iopub.status.busy": "2020-09-16T11:10:03.917587Z",
     "iopub.status.idle": "2020-09-16T11:10:03.921502Z",
     "shell.execute_reply": "2020-09-16T11:10:03.920734Z",
     "shell.execute_reply.started": "2020-09-16T11:10:03.917810Z"
    }
   },
   "outputs": [],
   "source": [
    "result = (prediction.argmax(axis=1) == y_test).sum()"
   ]
  },
  {
   "cell_type": "code",
   "execution_count": 27,
   "metadata": {
    "execution": {
     "iopub.execute_input": "2020-09-16T11:10:04.805160Z",
     "iopub.status.busy": "2020-09-16T11:10:04.804941Z",
     "iopub.status.idle": "2020-09-16T11:10:04.808796Z",
     "shell.execute_reply": "2020-09-16T11:10:04.807851Z",
     "shell.execute_reply.started": "2020-09-16T11:10:04.805136Z"
    }
   },
   "outputs": [],
   "source": [
    "accuracy_test = result/len(y_test)"
   ]
  },
  {
   "cell_type": "code",
   "execution_count": 28,
   "metadata": {
    "execution": {
     "iopub.execute_input": "2020-09-16T11:10:05.414174Z",
     "iopub.status.busy": "2020-09-16T11:10:05.413957Z",
     "iopub.status.idle": "2020-09-16T11:10:05.418340Z",
     "shell.execute_reply": "2020-09-16T11:10:05.417332Z",
     "shell.execute_reply.started": "2020-09-16T11:10:05.414150Z"
    }
   },
   "outputs": [
    {
     "name": "stderr",
     "output_type": "stream",
     "text": [
      "INFO:root:0.9549044585987261\n"
     ]
    }
   ],
   "source": [
    "logging.info(accuracy_test)"
   ]
  },
  {
   "cell_type": "markdown",
   "metadata": {},
   "source": [
    "# Accuracy graphs"
   ]
  },
  {
   "cell_type": "code",
   "execution_count": 30,
   "metadata": {
    "execution": {
     "iopub.execute_input": "2020-09-16T11:10:39.121540Z",
     "iopub.status.busy": "2020-09-16T11:10:39.121326Z",
     "iopub.status.idle": "2020-09-16T11:10:39.446432Z",
     "shell.execute_reply": "2020-09-16T11:10:39.445628Z",
     "shell.execute_reply.started": "2020-09-16T11:10:39.121517Z"
    }
   },
   "outputs": [
    {
     "data": {
      "image/png": "[encoded data removed]",
      "text/plain": [
       "<Figure size 720x360 with 2 Axes>"
      ]
     },
     "metadata": {
      "needs_background": "light"
     },
     "output_type": "display_data"
    }
   ],
   "source": [
    "plt.figure(figsize=(10, 5))\n",
    "subplt1 = plt.subplot(1, 2, 1)\n",
    "subplt1.plot(range(5), history_train.history['loss'], label='loss')\n",
    "subplt2 = plt.subplot(1, 2, 2)\n",
    "subplt2.plot(range(5), history_train.history['accuracy'], label='accuracy')\n",
    "subplt2.plot(range(5), history_train.history['precision'], label='precision')\n",
    "subplt2.plot(range(5), history_train.history['recall'], label='recall')\n",
    "subplt1.set_xlabel('iterations')\n",
    "subplt1.set_ylabel('loss')\n",
    "subplt2.set_xlabel('iterations')\n",
    "subplt2.legend(loc='best')\n",
    "plt.show()"
   ]
  },
  {
   "cell_type": "code",
   "execution_count": 31,
   "metadata": {
    "execution": {
     "iopub.execute_input": "2020-09-16T11:10:42.815030Z",
     "iopub.status.busy": "2020-09-16T11:10:42.814664Z",
     "iopub.status.idle": "2020-09-16T11:10:42.859988Z",
     "shell.execute_reply": "2020-09-16T11:10:42.859193Z",
     "shell.execute_reply.started": "2020-09-16T11:10:42.814981Z"
    }
   },
   "outputs": [],
   "source": [
    "basic_model.save('cnn_1_08.h5')"
   ]
  },
  {
   "cell_type": "markdown",
   "metadata": {},
   "source": [
    "# Visualizing weights and hidden layer"
   ]
  },
  {
   "cell_type": "code",
   "execution_count": 32,
   "metadata": {
    "execution": {
     "iopub.execute_input": "2020-09-16T11:10:44.051982Z",
     "iopub.status.busy": "2020-09-16T11:10:44.051645Z",
     "iopub.status.idle": "2020-09-16T11:10:44.059920Z",
     "shell.execute_reply": "2020-09-16T11:10:44.058952Z",
     "shell.execute_reply.started": "2020-09-16T11:10:44.051942Z"
    }
   },
   "outputs": [
    {
     "name": "stdout",
     "output_type": "stream",
     "text": [
      "Model: \"sequential\"\n",
      "_________________________________________________________________\n",
      "Layer (type)                 Output Shape              Param #   \n",
      "=================================================================\n",
      "conv2d (Conv2D)              (None, 26, 26, 8)         80        \n",
      "_________________________________________________________________\n",
      "max_pooling2d (MaxPooling2D) (None, 13, 13, 8)         0         \n",
      "_________________________________________________________________\n",
      "flatten (Flatten)            (None, 1352)              0         \n",
      "_________________________________________________________________\n",
      "dense (Dense)                (None, 100)               135300    \n",
      "_________________________________________________________________\n",
      "dense_1 (Dense)              (None, 10)                1010      \n",
      "=================================================================\n",
      "Total params: 136,390\n",
      "Trainable params: 136,390\n",
      "Non-trainable params: 0\n",
      "_________________________________________________________________\n"
     ]
    }
   ],
   "source": [
    "basic_model.summary()"
   ]
  },
  {
   "cell_type": "markdown",
   "metadata": {},
   "source": [
    "## 1st convolution layer"
   ]
  },
  {
   "cell_type": "code",
   "execution_count": 34,
   "metadata": {
    "execution": {
     "iopub.execute_input": "2020-09-16T11:10:52.326061Z",
     "iopub.status.busy": "2020-09-16T11:10:52.325839Z",
     "iopub.status.idle": "2020-09-16T11:10:52.329244Z",
     "shell.execute_reply": "2020-09-16T11:10:52.328449Z",
     "shell.execute_reply.started": "2020-09-16T11:10:52.326036Z"
    }
   },
   "outputs": [],
   "source": [
    "conv1 = basic_model.get_layer('conv2d')"
   ]
  },
  {
   "cell_type": "code",
   "execution_count": 35,
   "metadata": {
    "execution": {
     "iopub.execute_input": "2020-09-16T11:10:57.934400Z",
     "iopub.status.busy": "2020-09-16T11:10:57.934171Z",
     "iopub.status.idle": "2020-09-16T11:10:57.940664Z",
     "shell.execute_reply": "2020-09-16T11:10:57.939742Z",
     "shell.execute_reply.started": "2020-09-16T11:10:57.934375Z"
    }
   },
   "outputs": [
    {
     "data": {
      "text/plain": [
       "{'name': 'conv2d',\n",
       " 'trainable': True,\n",
       " 'batch_input_shape': (None, 28, 28, 1),\n",
       " 'dtype': 'float32',\n",
       " 'filters': 8,\n",
       " 'kernel_size': (3, 3),\n",
       " 'strides': (1, 1),\n",
       " 'padding': 'valid',\n",
       " 'data_format': 'channels_last',\n",
       " 'dilation_rate': (1, 1),\n",
       " 'activation': 'relu',\n",
       " 'use_bias': True,\n",
       " 'kernel_initializer': {'class_name': 'VarianceScaling',\n",
       "  'config': {'scale': 2.0,\n",
       "   'mode': 'fan_in',\n",
       "   'distribution': 'uniform',\n",
       "   'seed': None}},\n",
       " 'bias_initializer': {'class_name': 'Zeros', 'config': {}},\n",
       " 'kernel_regularizer': None,\n",
       " 'bias_regularizer': None,\n",
       " 'activity_regularizer': None,\n",
       " 'kernel_constraint': None,\n",
       " 'bias_constraint': None}"
      ]
     },
     "execution_count": 35,
     "metadata": {},
     "output_type": "execute_result"
    }
   ],
   "source": [
    "conv1.get_config()"
   ]
  },
  {
   "cell_type": "markdown",
   "metadata": {},
   "source": [
    "### Visualizing weights"
   ]
  },
  {
   "cell_type": "code",
   "execution_count": 36,
   "metadata": {
    "execution": {
     "iopub.execute_input": "2020-09-16T11:10:59.341998Z",
     "iopub.status.busy": "2020-09-16T11:10:59.341782Z",
     "iopub.status.idle": "2020-09-16T11:10:59.346654Z",
     "shell.execute_reply": "2020-09-16T11:10:59.345881Z",
     "shell.execute_reply.started": "2020-09-16T11:10:59.341974Z"
    }
   },
   "outputs": [],
   "source": [
    "conv1_w = conv1.get_weights()"
   ]
  },
  {
   "cell_type": "code",
   "execution_count": 37,
   "metadata": {
    "execution": {
     "iopub.execute_input": "2020-09-16T11:10:59.878528Z",
     "iopub.status.busy": "2020-09-16T11:10:59.878293Z",
     "iopub.status.idle": "2020-09-16T11:10:59.882025Z",
     "shell.execute_reply": "2020-09-16T11:10:59.881230Z",
     "shell.execute_reply.started": "2020-09-16T11:10:59.878502Z"
    }
   },
   "outputs": [],
   "source": [
    "conv1_w = np.array(conv1_w, dtype=object)"
   ]
  },
  {
   "cell_type": "code",
   "execution_count": 38,
   "metadata": {
    "execution": {
     "iopub.execute_input": "2020-09-16T11:11:00.431754Z",
     "iopub.status.busy": "2020-09-16T11:11:00.431348Z",
     "iopub.status.idle": "2020-09-16T11:11:00.438919Z",
     "shell.execute_reply": "2020-09-16T11:11:00.437767Z",
     "shell.execute_reply.started": "2020-09-16T11:11:00.431711Z"
    }
   },
   "outputs": [
    {
     "name": "stderr",
     "output_type": "stream",
     "text": [
      "INFO:root:(3, 3, 1, 8)\n",
      "INFO:root:(8,)\n"
     ]
    }
   ],
   "source": [
    "for w in conv1_w:\n",
    "    logging.info(w.shape)"
   ]
  },
  {
   "cell_type": "code",
   "execution_count": 39,
   "metadata": {
    "execution": {
     "iopub.execute_input": "2020-09-16T11:11:00.937258Z",
     "iopub.status.busy": "2020-09-16T11:11:00.937037Z",
     "iopub.status.idle": "2020-09-16T11:11:01.560102Z",
     "shell.execute_reply": "2020-09-16T11:11:01.559090Z",
     "shell.execute_reply.started": "2020-09-16T11:11:00.937235Z"
    }
   },
   "outputs": [
    {
     "data": {
      "image/png": "[encoded data removed]",
      "text/plain": [
       "<Figure size 432x288 with 8 Axes>"
      ]
     },
     "metadata": {
      "needs_background": "light"
     },
     "output_type": "display_data"
    }
   ],
   "source": [
    "for i in range(8):\n",
    "    subplt = plt.subplot(2, 4, i+1)\n",
    "    subplt.imshow(conv1_w[0][:, :, 0, i], cmap='gray')\n",
    "plt.show()"
   ]
  },
  {
   "cell_type": "markdown",
   "metadata": {},
   "source": [
    "### Visualizing the ouput"
   ]
  },
  {
   "cell_type": "markdown",
   "metadata": {},
   "source": [
    "We need to create another model with the same 1st layer as our base model and output being the layer 1st layer itself. This will give us the (1, 26, 26, 8) shaped output which will contain the output of all the 8 filters stacked together. We can plot this output to understand what our model learned in the 1st convolution layer."
   ]
  },
  {
   "cell_type": "code",
   "execution_count": 40,
   "metadata": {
    "execution": {
     "iopub.execute_input": "2020-09-16T11:11:03.906893Z",
     "iopub.status.busy": "2020-09-16T11:11:03.906669Z",
     "iopub.status.idle": "2020-09-16T11:11:03.918501Z",
     "shell.execute_reply": "2020-09-16T11:11:03.917658Z",
     "shell.execute_reply.started": "2020-09-16T11:11:03.906869Z"
    }
   },
   "outputs": [],
   "source": [
    "# creatin a intermediate model\n",
    "conv_1_08_model = Sequential()\n",
    "conv_1_08_model.add(conv1)"
   ]
  },
  {
   "cell_type": "code",
   "execution_count": 41,
   "metadata": {
    "execution": {
     "iopub.execute_input": "2020-09-16T11:11:32.960263Z",
     "iopub.status.busy": "2020-09-16T11:11:32.960051Z",
     "iopub.status.idle": "2020-09-16T11:11:32.998626Z",
     "shell.execute_reply": "2020-09-16T11:11:32.997934Z",
     "shell.execute_reply.started": "2020-09-16T11:11:32.960239Z"
    }
   },
   "outputs": [],
   "source": [
    "conv_1_08_model.save('cnn_1x8_onehot_interm.h5')"
   ]
  },
  {
   "cell_type": "code",
   "execution_count": 42,
   "metadata": {
    "execution": {
     "iopub.execute_input": "2020-09-16T11:11:34.472311Z",
     "iopub.status.busy": "2020-09-16T11:11:34.471998Z",
     "iopub.status.idle": "2020-09-16T11:11:34.599895Z",
     "shell.execute_reply": "2020-09-16T11:11:34.599173Z",
     "shell.execute_reply.started": "2020-09-16T11:11:34.472282Z"
    }
   },
   "outputs": [
    {
     "data": {
      "image/png": "[encoded data removed]",
      "text/plain": [
       "<Figure size 432x288 with 1 Axes>"
      ]
     },
     "metadata": {
      "needs_background": "light"
     },
     "output_type": "display_data"
    }
   ],
   "source": [
    "# getting a random image for prediction\n",
    "# the image features of this prediction is what we are trying to visualize\n",
    "i = random.randint(0, x_test.shape[0])\n",
    "conv1_test_feat = x_test[i]\n",
    "plt.imshow(conv1_test_feat, cmap='gray')\n",
    "plt.show()"
   ]
  },
  {
   "cell_type": "code",
   "execution_count": 43,
   "metadata": {
    "execution": {
     "iopub.execute_input": "2020-09-16T11:11:35.246572Z",
     "iopub.status.busy": "2020-09-16T11:11:35.246155Z",
     "iopub.status.idle": "2020-09-16T11:11:35.251766Z",
     "shell.execute_reply": "2020-09-16T11:11:35.250840Z",
     "shell.execute_reply.started": "2020-09-16T11:11:35.246531Z"
    }
   },
   "outputs": [
    {
     "name": "stderr",
     "output_type": "stream",
     "text": [
      "INFO:root:(1, 28, 28, 1)\n"
     ]
    }
   ],
   "source": [
    "logging.info(conv1_test_feat.reshape((1,28,28,1)).shape)"
   ]
  },
  {
   "cell_type": "code",
   "execution_count": 44,
   "metadata": {
    "execution": {
     "iopub.execute_input": "2020-09-16T11:11:36.103632Z",
     "iopub.status.busy": "2020-09-16T11:11:36.103406Z",
     "iopub.status.idle": "2020-09-16T11:11:36.172776Z",
     "shell.execute_reply": "2020-09-16T11:11:36.171713Z",
     "shell.execute_reply.started": "2020-09-16T11:11:36.103607Z"
    }
   },
   "outputs": [],
   "source": [
    "conv1_out = conv_1_08_model.predict(conv1_test_feat.reshape((1,28,28,1)))"
   ]
  },
  {
   "cell_type": "code",
   "execution_count": 45,
   "metadata": {
    "execution": {
     "iopub.execute_input": "2020-09-16T11:11:36.739874Z",
     "iopub.status.busy": "2020-09-16T11:11:36.739526Z",
     "iopub.status.idle": "2020-09-16T11:11:36.744201Z",
     "shell.execute_reply": "2020-09-16T11:11:36.743479Z",
     "shell.execute_reply.started": "2020-09-16T11:11:36.739817Z"
    }
   },
   "outputs": [
    {
     "name": "stderr",
     "output_type": "stream",
     "text": [
      "INFO:root:(1, 26, 26, 8)\n"
     ]
    }
   ],
   "source": [
    "logging.info(conv1_out.shape)"
   ]
  },
  {
   "cell_type": "code",
   "execution_count": 46,
   "metadata": {
    "execution": {
     "iopub.execute_input": "2020-09-16T11:11:37.324673Z",
     "iopub.status.busy": "2020-09-16T11:11:37.324454Z",
     "iopub.status.idle": "2020-09-16T11:11:37.918203Z",
     "shell.execute_reply": "2020-09-16T11:11:37.917524Z",
     "shell.execute_reply.started": "2020-09-16T11:11:37.324649Z"
    }
   },
   "outputs": [
    {
     "data": {
      "image/png": "[encoded data removed]",
      "text/plain": [
       "<Figure size 432x288 with 8 Axes>"
      ]
     },
     "metadata": {
      "needs_background": "light"
     },
     "output_type": "display_data"
    }
   ],
   "source": [
    "for i in range(8):\n",
    "    subplt = plt.subplot(2, 4, i+1)\n",
    "    subplt.imshow(conv1_out[0, :, :, i])\n",
    "plt.show()"
   ]
  },
  {
   "cell_type": "code",
   "execution_count": 47,
   "metadata": {
    "execution": {
     "iopub.execute_input": "2020-09-16T11:11:38.029982Z",
     "iopub.status.busy": "2020-09-16T11:11:38.029744Z",
     "iopub.status.idle": "2020-09-16T11:11:38.037519Z",
     "shell.execute_reply": "2020-09-16T11:11:38.036780Z",
     "shell.execute_reply.started": "2020-09-16T11:11:38.029957Z"
    }
   },
   "outputs": [],
   "source": [
    "def conv1_test_output(num_examples):\n",
    "    random_index = [random.randint(0, x_test.shape[0]) for i in range(num_examples)]\n",
    "    random_feat = x_test[random_index]\n",
    "    assert len(random_feat.shape) == 4\n",
    "    intermediate_model = Sequential()\n",
    "    intermediate_model.add(conv1)\n",
    "    pred = intermediate_model.predict(random_feat)\n",
    "    for index, p in enumerate(pred):\n",
    "        fig = plt.figure(figsize=(16, 3), constrained_layout=True)\n",
    "        grid = gridspec.GridSpec(1, 3, figure=fig)\n",
    "        grid0 = grid[0]\n",
    "        grid1 = grid[1].subgridspec(2, 4)\n",
    "        grid2 = grid[2].subgridspec(2, 4)\n",
    "        fig.add_subplot(grid0).imshow(random_feat[index], cmap='gray')\n",
    "        for i in range(8):\n",
    "            row = i // 4\n",
    "            col = i % 4\n",
    "            subplt = fig.add_subplot(grid1[row, col])\n",
    "            subplt.imshow(conv1_w[0][:, :, 0, i], cmap='gray')\n",
    "        for i in range(8):\n",
    "            row = i // 4\n",
    "            col = i % 4\n",
    "            subplt = fig.add_subplot(grid2[row, col])\n",
    "            subplt.imshow(p[:,:,i], cmap='gray')\n",
    "        plt.show()"
   ]
  },
  {
   "cell_type": "code",
   "execution_count": 48,
   "metadata": {
    "execution": {
     "iopub.execute_input": "2020-09-16T11:11:39.821635Z",
     "iopub.status.busy": "2020-09-16T11:11:39.821420Z",
     "iopub.status.idle": "2020-09-16T11:11:46.281686Z",
     "shell.execute_reply": "2020-09-16T11:11:46.281014Z",
     "shell.execute_reply.started": "2020-09-16T11:11:39.821612Z"
    }
   },
   "outputs": [
    {
     "data": {
      "image/png": "[encoded data removed]",
      "text/plain": [
       "<Figure size 1152x216 with 17 Axes>"
      ]
     },
     "metadata": {
      "needs_background": "light"
     },
     "output_type": "display_data"
    },
    {
     "data": {
      "image/png": "[encoded data removed]",
      "text/plain": [
       "<Figure size 1152x216 with 17 Axes>"
      ]
     },
     "metadata": {
      "needs_background": "light"
     },
     "output_type": "display_data"
    },
    {
     "data": {
      "image/png": "[encoded data removed]",
      "text/plain": [
       "<Figure size 1152x216 with 17 Axes>"
      ]
     },
     "metadata": {
      "needs_background": "light"
     },
     "output_type": "display_data"
    }
   ],
   "source": [
    "conv1_test_output(3)"
   ]
  },
  {
   "cell_type": "code",
   "execution_count": null,
   "metadata": {},
   "outputs": [],
   "source": []
  }
 ],
 "metadata": {
  "kernelspec": {
   "display_name": "Python 3",
   "language": "python",
   "name": "python3"
  },
  "language_info": {
   "codemirror_mode": {
    "name": "ipython",
    "version": 3
   },
   "file_extension": ".py",
   "mimetype": "text/x-python",
   "name": "python",
   "nbconvert_exporter": "python",
   "pygments_lexer": "ipython3",
   "version": "3.8.3"
  },
  "toc-autonumbering": true,
  "toc-showcode": false,
  "toc-showmarkdowntxt": false
 },
 "nbformat": 4,
 "nbformat_minor": 4
}
