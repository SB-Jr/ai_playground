{
 "cells": [
  {
   "cell_type": "markdown",
   "metadata": {},
   "source": [
    "# Initial Setup"
   ]
  },
  {
   "cell_type": "markdown",
   "metadata": {},
   "source": [
    "We can see here that the model with the following criteria:\n",
    "- 1 Convolution Hidden Layer\n",
    "   - 8 Convolution Filter\n",
    "   - Relu Activation\n",
    "   - 1 Max Pooling layer with stride = 2\n",
    "   - `he_normal` initializer\n",
    "- 1 Hidden layer\n",
    "   - 100 nodes in layer\n",
    "   - Relu Activation\n",
    "   - `he_normal` initializer\n",
    "- Categorical Cross Entropy loss function\n",
    "- One hot encoded labels as target\n",
    "- Adam optimizer"
   ]
  },
  {
   "cell_type": "markdown",
   "metadata": {},
   "source": [
    "## Imports"
   ]
  },
  {
   "cell_type": "code",
   "execution_count": 16,
   "metadata": {
    "execution": {
     "iopub.execute_input": "2020-09-16T12:00:57.144399Z",
     "iopub.status.busy": "2020-09-16T12:00:57.144144Z",
     "iopub.status.idle": "2020-09-16T12:00:57.150164Z",
     "shell.execute_reply": "2020-09-16T12:00:57.149187Z",
     "shell.execute_reply.started": "2020-09-16T12:00:57.144372Z"
    }
   },
   "outputs": [],
   "source": [
    "import mnist_data_load\n",
    "import pandas as pd\n",
    "import numpy as np\n",
    "import logging\n",
    "import random\n",
    "import json\n",
    "import matplotlib.pyplot as plt\n",
    "import matplotlib.gridspec as gridspec\n",
    "from tensorflow.keras.models import Sequential\n",
    "from tensorflow.keras.layers import Dense\n",
    "from tensorflow.keras.layers import Conv2D\n",
    "from tensorflow.keras.layers import MaxPool2D\n",
    "from tensorflow.keras.layers import Flatten\n",
    "from tensorflow.keras.metrics import Precision\n",
    "from tensorflow.keras.metrics import Recall\n",
    "import tensorflow as tf"
   ]
  },
  {
   "cell_type": "markdown",
   "metadata": {},
   "source": [
    "## Logging"
   ]
  },
  {
   "cell_type": "code",
   "execution_count": 2,
   "metadata": {
    "execution": {
     "iopub.execute_input": "2020-09-16T11:58:55.093575Z",
     "iopub.status.busy": "2020-09-16T11:58:55.093395Z",
     "iopub.status.idle": "2020-09-16T11:58:55.096574Z",
     "shell.execute_reply": "2020-09-16T11:58:55.095848Z",
     "shell.execute_reply.started": "2020-09-16T11:58:55.093553Z"
    }
   },
   "outputs": [],
   "source": [
    "get_logging = True"
   ]
  },
  {
   "cell_type": "code",
   "execution_count": 3,
   "metadata": {
    "execution": {
     "iopub.execute_input": "2020-09-16T11:58:55.143269Z",
     "iopub.status.busy": "2020-09-16T11:58:55.142749Z",
     "iopub.status.idle": "2020-09-16T11:58:55.148408Z",
     "shell.execute_reply": "2020-09-16T11:58:55.147286Z",
     "shell.execute_reply.started": "2020-09-16T11:58:55.143204Z"
    }
   },
   "outputs": [],
   "source": [
    "if get_logging:\n",
    "    logging.getLogger().setLevel(logging.INFO)"
   ]
  },
  {
   "cell_type": "code",
   "execution_count": 4,
   "metadata": {
    "execution": {
     "iopub.execute_input": "2020-09-16T11:58:55.857852Z",
     "iopub.status.busy": "2020-09-16T11:58:55.857498Z",
     "iopub.status.idle": "2020-09-16T11:58:55.862427Z",
     "shell.execute_reply": "2020-09-16T11:58:55.861593Z",
     "shell.execute_reply.started": "2020-09-16T11:58:55.857812Z"
    }
   },
   "outputs": [],
   "source": [
    "random_seed = 100\n",
    "np.random.seed(random_seed)\n",
    "tf.random.set_seed(random_seed)"
   ]
  },
  {
   "cell_type": "markdown",
   "metadata": {},
   "source": [
    "## Check GPU status"
   ]
  },
  {
   "cell_type": "code",
   "execution_count": 5,
   "metadata": {
    "execution": {
     "iopub.execute_input": "2020-09-16T11:58:57.004820Z",
     "iopub.status.busy": "2020-09-16T11:58:57.004548Z",
     "iopub.status.idle": "2020-09-16T11:58:57.056624Z",
     "shell.execute_reply": "2020-09-16T11:58:57.055827Z",
     "shell.execute_reply.started": "2020-09-16T11:58:57.004795Z"
    }
   },
   "outputs": [],
   "source": [
    "assert len(tf.config.experimental.list_physical_devices('GPU')) == 1"
   ]
  },
  {
   "cell_type": "markdown",
   "metadata": {},
   "source": [
    "# Load the data"
   ]
  },
  {
   "cell_type": "code",
   "execution_count": 6,
   "metadata": {
    "execution": {
     "iopub.execute_input": "2020-09-16T11:58:58.121968Z",
     "iopub.status.busy": "2020-09-16T11:58:58.121710Z",
     "iopub.status.idle": "2020-09-16T11:59:02.341236Z",
     "shell.execute_reply": "2020-09-16T11:59:02.340600Z",
     "shell.execute_reply.started": "2020-09-16T11:58:58.121928Z"
    }
   },
   "outputs": [
    {
     "name": "stderr",
     "output_type": "stream",
     "text": [
      "INFO:root:handling label: 1\n",
      "INFO:root:handling label: 0\n",
      "INFO:root:handling label: 4\n",
      "INFO:root:handling label: 7\n",
      "INFO:root:handling label: 3\n",
      "INFO:root:handling label: 5\n",
      "INFO:root:handling label: 8\n",
      "INFO:root:handling label: 9\n",
      "INFO:root:handling label: 2\n",
      "INFO:root:handling label: 6\n"
     ]
    }
   ],
   "source": [
    "train_data, validation_data, test_data = mnist_data_load.load_data(seed=random_seed)"
   ]
  },
  {
   "cell_type": "code",
   "execution_count": 7,
   "metadata": {
    "execution": {
     "iopub.execute_input": "2020-09-16T11:59:02.989023Z",
     "iopub.status.busy": "2020-09-16T11:59:02.988813Z",
     "iopub.status.idle": "2020-09-16T11:59:03.108210Z",
     "shell.execute_reply": "2020-09-16T11:59:03.107500Z",
     "shell.execute_reply.started": "2020-09-16T11:59:02.989000Z"
    }
   },
   "outputs": [],
   "source": [
    "x_train, y_train = mnist_data_load.get_label_and_features_from_dataframe(train_data)"
   ]
  },
  {
   "cell_type": "code",
   "execution_count": 8,
   "metadata": {
    "execution": {
     "iopub.execute_input": "2020-09-16T11:59:03.601010Z",
     "iopub.status.busy": "2020-09-16T11:59:03.600739Z",
     "iopub.status.idle": "2020-09-16T11:59:03.605048Z",
     "shell.execute_reply": "2020-09-16T11:59:03.604286Z",
     "shell.execute_reply.started": "2020-09-16T11:59:03.600977Z"
    }
   },
   "outputs": [],
   "source": [
    "y_train_one_hot = tf.keras.utils.to_categorical(y_train, 10)"
   ]
  },
  {
   "cell_type": "code",
   "execution_count": 9,
   "metadata": {
    "execution": {
     "iopub.execute_input": "2020-09-16T11:59:04.163230Z",
     "iopub.status.busy": "2020-09-16T11:59:04.163009Z",
     "iopub.status.idle": "2020-09-16T11:59:04.170751Z",
     "shell.execute_reply": "2020-09-16T11:59:04.170111Z",
     "shell.execute_reply.started": "2020-09-16T11:59:04.163206Z"
    }
   },
   "outputs": [
    {
     "name": "stderr",
     "output_type": "stream",
     "text": [
      "INFO:root:(30360, 28, 28, 1)\n",
      "INFO:root:(30360,)\n",
      "INFO:root:[0 1 2 3 4 5 6 7 8 9]\n",
      "INFO:root:(30360, 10)\n"
     ]
    }
   ],
   "source": [
    "logging.info(x_train.shape)\n",
    "logging.info(y_train.shape)\n",
    "logging.info(np.unique(y_train))\n",
    "logging.info(y_train_one_hot.shape)"
   ]
  },
  {
   "cell_type": "markdown",
   "metadata": {},
   "source": [
    "# Model"
   ]
  },
  {
   "cell_type": "code",
   "execution_count": 10,
   "metadata": {
    "execution": {
     "iopub.execute_input": "2020-09-16T11:59:06.074756Z",
     "iopub.status.busy": "2020-09-16T11:59:06.074544Z",
     "iopub.status.idle": "2020-09-16T11:59:06.079497Z",
     "shell.execute_reply": "2020-09-16T11:59:06.078676Z",
     "shell.execute_reply.started": "2020-09-16T11:59:06.074733Z"
    }
   },
   "outputs": [],
   "source": [
    "def get_basic_model() -> Sequential:\n",
    "    model = Sequential()\n",
    "    model.add(Conv2D(filters=8, kernel_size=(3, 3), activation='relu',\n",
    "                     kernel_initializer='he_uniform', input_shape=(28, 28, 1)))\n",
    "    model.add(MaxPool2D(pool_size=(2, 2)))\n",
    "    model.add(Flatten())\n",
    "    model.add(Dense(100, kernel_initializer='he_uniform', activation='relu'))\n",
    "    model.add(Dense(10, activation='softmax'))\n",
    "    return model"
   ]
  },
  {
   "cell_type": "code",
   "execution_count": 11,
   "metadata": {
    "execution": {
     "iopub.execute_input": "2020-09-16T11:59:06.587684Z",
     "iopub.status.busy": "2020-09-16T11:59:06.587470Z",
     "iopub.status.idle": "2020-09-16T11:59:07.173597Z",
     "shell.execute_reply": "2020-09-16T11:59:07.172931Z",
     "shell.execute_reply.started": "2020-09-16T11:59:06.587660Z"
    }
   },
   "outputs": [],
   "source": [
    "basic_model = get_basic_model()"
   ]
  },
  {
   "cell_type": "code",
   "execution_count": 12,
   "metadata": {
    "execution": {
     "iopub.execute_input": "2020-09-16T11:59:07.175322Z",
     "iopub.status.busy": "2020-09-16T11:59:07.174995Z",
     "iopub.status.idle": "2020-09-16T11:59:07.197041Z",
     "shell.execute_reply": "2020-09-16T11:59:07.196386Z",
     "shell.execute_reply.started": "2020-09-16T11:59:07.175284Z"
    }
   },
   "outputs": [],
   "source": [
    "basic_model.compile(optimizer='adam', loss='categorical_crossentropy', metrics=['accuracy', Precision(), Recall()])"
   ]
  },
  {
   "cell_type": "code",
   "execution_count": 13,
   "metadata": {
    "execution": {
     "iopub.execute_input": "2020-09-16T11:59:07.874047Z",
     "iopub.status.busy": "2020-09-16T11:59:07.873818Z",
     "iopub.status.idle": "2020-09-16T11:59:07.880692Z",
     "shell.execute_reply": "2020-09-16T11:59:07.880099Z",
     "shell.execute_reply.started": "2020-09-16T11:59:07.874023Z"
    }
   },
   "outputs": [
    {
     "name": "stdout",
     "output_type": "stream",
     "text": [
      "Model: \"sequential\"\n",
      "_________________________________________________________________\n",
      "Layer (type)                 Output Shape              Param #   \n",
      "=================================================================\n",
      "conv2d (Conv2D)              (None, 26, 26, 8)         80        \n",
      "_________________________________________________________________\n",
      "max_pooling2d (MaxPooling2D) (None, 13, 13, 8)         0         \n",
      "_________________________________________________________________\n",
      "flatten (Flatten)            (None, 1352)              0         \n",
      "_________________________________________________________________\n",
      "dense (Dense)                (None, 100)               135300    \n",
      "_________________________________________________________________\n",
      "dense_1 (Dense)              (None, 10)                1010      \n",
      "=================================================================\n",
      "Total params: 136,390\n",
      "Trainable params: 136,390\n",
      "Non-trainable params: 0\n",
      "_________________________________________________________________\n"
     ]
    }
   ],
   "source": [
    "basic_model.summary()"
   ]
  },
  {
   "cell_type": "markdown",
   "metadata": {},
   "source": [
    "## Training"
   ]
  },
  {
   "cell_type": "code",
   "execution_count": 14,
   "metadata": {
    "execution": {
     "iopub.execute_input": "2020-09-16T11:59:09.740543Z",
     "iopub.status.busy": "2020-09-16T11:59:09.740078Z",
     "iopub.status.idle": "2020-09-16T11:59:09.744182Z",
     "shell.execute_reply": "2020-09-16T11:59:09.743415Z",
     "shell.execute_reply.started": "2020-09-16T11:59:09.740507Z"
    }
   },
   "outputs": [],
   "source": [
    "# setting basic hyperparameters\n",
    "#learning_rate = 0.01\n",
    "batch_size = 32\n",
    "epochs = 5"
   ]
  },
  {
   "cell_type": "code",
   "execution_count": 15,
   "metadata": {
    "execution": {
     "iopub.execute_input": "2020-09-16T11:59:10.258879Z",
     "iopub.status.busy": "2020-09-16T11:59:10.258663Z",
     "iopub.status.idle": "2020-09-16T11:59:26.542395Z",
     "shell.execute_reply": "2020-09-16T11:59:26.541674Z",
     "shell.execute_reply.started": "2020-09-16T11:59:10.258855Z"
    }
   },
   "outputs": [
    {
     "name": "stdout",
     "output_type": "stream",
     "text": [
      "Epoch 1/5\n",
      "949/949 [==============================] - 3s 3ms/step - loss: 3.2111 - accuracy: 0.8678 - precision: 0.8725 - recall: 0.8644\n",
      "Epoch 2/5\n",
      "949/949 [==============================] - 3s 3ms/step - loss: 0.3432 - accuracy: 0.9284 - precision: 0.9432 - recall: 0.9179\n",
      "Epoch 3/5\n",
      "949/949 [==============================] - 3s 3ms/step - loss: 0.1955 - accuracy: 0.9529 - precision: 0.9635 - recall: 0.9459\n",
      "Epoch 4/5\n",
      "949/949 [==============================] - 3s 3ms/step - loss: 0.1547 - accuracy: 0.9605 - precision: 0.9672 - recall: 0.9554\n",
      "Epoch 5/5\n",
      "949/949 [==============================] - 3s 3ms/step - loss: 0.1183 - accuracy: 0.9689 - precision: 0.9742 - recall: 0.9655\n"
     ]
    }
   ],
   "source": [
    "history_train = basic_model.fit(x_train, y_train_one_hot, batch_size=batch_size, epochs=epochs, verbose=1)"
   ]
  },
  {
   "cell_type": "code",
   "execution_count": 18,
   "metadata": {
    "execution": {
     "iopub.execute_input": "2020-09-16T12:01:50.259443Z",
     "iopub.status.busy": "2020-09-16T12:01:50.259217Z",
     "iopub.status.idle": "2020-09-16T12:01:50.263518Z",
     "shell.execute_reply": "2020-09-16T12:01:50.262781Z",
     "shell.execute_reply.started": "2020-09-16T12:01:50.259418Z"
    }
   },
   "outputs": [
    {
     "name": "stderr",
     "output_type": "stream",
     "text": [
      "INFO:root:<class 'tensorflow.python.keras.callbacks.History'>\n"
     ]
    }
   ],
   "source": [
    "logging.info(type(history_train))"
   ]
  },
  {
   "cell_type": "code",
   "execution_count": 20,
   "metadata": {
    "execution": {
     "iopub.execute_input": "2020-09-16T12:02:37.211642Z",
     "iopub.status.busy": "2020-09-16T12:02:37.211423Z",
     "iopub.status.idle": "2020-09-16T12:02:37.215446Z",
     "shell.execute_reply": "2020-09-16T12:02:37.214725Z",
     "shell.execute_reply.started": "2020-09-16T12:02:37.211618Z"
    }
   },
   "outputs": [],
   "source": [
    "with open('cnn_1x8_onehot_training.json', 'w') as f:\n",
    "    f.write(json.dumps(history_train.history))"
   ]
  },
  {
   "cell_type": "markdown",
   "metadata": {},
   "source": [
    "## Validation"
   ]
  },
  {
   "cell_type": "code",
   "execution_count": 21,
   "metadata": {
    "execution": {
     "iopub.execute_input": "2020-09-16T12:02:41.073501Z",
     "iopub.status.busy": "2020-09-16T12:02:41.073268Z",
     "iopub.status.idle": "2020-09-16T12:02:41.090846Z",
     "shell.execute_reply": "2020-09-16T12:02:41.089993Z",
     "shell.execute_reply.started": "2020-09-16T12:02:41.073475Z"
    }
   },
   "outputs": [],
   "source": [
    "x_val, y_val = mnist_data_load.get_label_and_features_from_dataframe(validation_data)"
   ]
  },
  {
   "cell_type": "code",
   "execution_count": 22,
   "metadata": {
    "execution": {
     "iopub.execute_input": "2020-09-16T12:02:41.537150Z",
     "iopub.status.busy": "2020-09-16T12:02:41.536903Z",
     "iopub.status.idle": "2020-09-16T12:02:41.541005Z",
     "shell.execute_reply": "2020-09-16T12:02:41.540200Z",
     "shell.execute_reply.started": "2020-09-16T12:02:41.537125Z"
    }
   },
   "outputs": [],
   "source": [
    "y_val_one_hot = tf.keras.utils.to_categorical(y_val, 10)"
   ]
  },
  {
   "cell_type": "code",
   "execution_count": 23,
   "metadata": {
    "execution": {
     "iopub.execute_input": "2020-09-16T12:02:41.996629Z",
     "iopub.status.busy": "2020-09-16T12:02:41.996413Z",
     "iopub.status.idle": "2020-09-16T12:02:42.003525Z",
     "shell.execute_reply": "2020-09-16T12:02:42.002124Z",
     "shell.execute_reply.started": "2020-09-16T12:02:41.996604Z"
    }
   },
   "outputs": [
    {
     "name": "stderr",
     "output_type": "stream",
     "text": [
      "INFO:root:(3790, 28, 28, 1)\n",
      "INFO:root:(3790,)\n",
      "INFO:root:(3790, 10)\n"
     ]
    }
   ],
   "source": [
    "logging.info(x_val.shape)\n",
    "logging.info(y_val.shape)\n",
    "logging.info(y_val_one_hot.shape)"
   ]
  },
  {
   "cell_type": "code",
   "execution_count": 24,
   "metadata": {
    "execution": {
     "iopub.execute_input": "2020-09-16T12:02:42.715012Z",
     "iopub.status.busy": "2020-09-16T12:02:42.714769Z",
     "iopub.status.idle": "2020-09-16T12:02:43.467881Z",
     "shell.execute_reply": "2020-09-16T12:02:43.467150Z",
     "shell.execute_reply.started": "2020-09-16T12:02:42.714988Z"
    }
   },
   "outputs": [
    {
     "name": "stdout",
     "output_type": "stream",
     "text": [
      "119/119 [==============================] - 0s 3ms/step - loss: 0.2364 - accuracy: 0.9599 - precision: 0.9641 - recall: 0.9567\n"
     ]
    }
   ],
   "source": [
    "history_validation = basic_model.evaluate(x_val, y_val_one_hot, batch_size=batch_size, verbose=1)"
   ]
  },
  {
   "cell_type": "markdown",
   "metadata": {},
   "source": [
    "## Testing"
   ]
  },
  {
   "cell_type": "code",
   "execution_count": 25,
   "metadata": {
    "execution": {
     "iopub.execute_input": "2020-09-16T12:02:45.591118Z",
     "iopub.status.busy": "2020-09-16T12:02:45.590898Z",
     "iopub.status.idle": "2020-09-16T12:02:45.620568Z",
     "shell.execute_reply": "2020-09-16T12:02:45.619505Z",
     "shell.execute_reply.started": "2020-09-16T12:02:45.591095Z"
    }
   },
   "outputs": [],
   "source": [
    "x_test, y_test = mnist_data_load.get_label_and_features_from_dataframe(test_data)"
   ]
  },
  {
   "cell_type": "code",
   "execution_count": 26,
   "metadata": {
    "execution": {
     "iopub.execute_input": "2020-09-16T12:02:46.092510Z",
     "iopub.status.busy": "2020-09-16T12:02:46.092297Z",
     "iopub.status.idle": "2020-09-16T12:02:46.095973Z",
     "shell.execute_reply": "2020-09-16T12:02:46.095300Z",
     "shell.execute_reply.started": "2020-09-16T12:02:46.092486Z"
    }
   },
   "outputs": [],
   "source": [
    "y_test_one_hot = tf.keras.utils.to_categorical(y_test, 10)"
   ]
  },
  {
   "cell_type": "code",
   "execution_count": 27,
   "metadata": {
    "execution": {
     "iopub.execute_input": "2020-09-16T12:02:46.717217Z",
     "iopub.status.busy": "2020-09-16T12:02:46.716722Z",
     "iopub.status.idle": "2020-09-16T12:02:46.724570Z",
     "shell.execute_reply": "2020-09-16T12:02:46.723698Z",
     "shell.execute_reply.started": "2020-09-16T12:02:46.717134Z"
    }
   },
   "outputs": [
    {
     "name": "stderr",
     "output_type": "stream",
     "text": [
      "INFO:root:(7850, 28, 28, 1)\n",
      "INFO:root:(7850,)\n",
      "INFO:root:(7850, 10)\n"
     ]
    }
   ],
   "source": [
    "logging.info(x_test.shape)\n",
    "logging.info(y_test.shape)\n",
    "logging.info(y_test_one_hot.shape)"
   ]
  },
  {
   "cell_type": "code",
   "execution_count": 28,
   "metadata": {
    "execution": {
     "iopub.execute_input": "2020-09-16T12:02:47.436452Z",
     "iopub.status.busy": "2020-09-16T12:02:47.436238Z",
     "iopub.status.idle": "2020-09-16T12:02:47.966774Z",
     "shell.execute_reply": "2020-09-16T12:02:47.965954Z",
     "shell.execute_reply.started": "2020-09-16T12:02:47.436428Z"
    }
   },
   "outputs": [
    {
     "name": "stdout",
     "output_type": "stream",
     "text": [
      "246/246 [==============================] - 0s 1ms/step\n"
     ]
    }
   ],
   "source": [
    "prediction = basic_model.predict(x_test, verbose=1)"
   ]
  },
  {
   "cell_type": "code",
   "execution_count": 29,
   "metadata": {
    "execution": {
     "iopub.execute_input": "2020-09-16T12:02:47.968356Z",
     "iopub.status.busy": "2020-09-16T12:02:47.968128Z",
     "iopub.status.idle": "2020-09-16T12:02:47.975629Z",
     "shell.execute_reply": "2020-09-16T12:02:47.974752Z",
     "shell.execute_reply.started": "2020-09-16T12:02:47.968330Z"
    }
   },
   "outputs": [
    {
     "data": {
      "text/plain": [
       "7850"
      ]
     },
     "execution_count": 29,
     "metadata": {},
     "output_type": "execute_result"
    }
   ],
   "source": [
    "len(prediction)"
   ]
  },
  {
   "cell_type": "code",
   "execution_count": 30,
   "metadata": {
    "execution": {
     "iopub.execute_input": "2020-09-16T12:02:48.718804Z",
     "iopub.status.busy": "2020-09-16T12:02:48.718539Z",
     "iopub.status.idle": "2020-09-16T12:02:48.722657Z",
     "shell.execute_reply": "2020-09-16T12:02:48.721806Z",
     "shell.execute_reply.started": "2020-09-16T12:02:48.718777Z"
    }
   },
   "outputs": [],
   "source": [
    "result = (prediction.argmax(axis=1) == y_test).sum()"
   ]
  },
  {
   "cell_type": "code",
   "execution_count": 31,
   "metadata": {
    "execution": {
     "iopub.execute_input": "2020-09-16T12:02:49.206850Z",
     "iopub.status.busy": "2020-09-16T12:02:49.206585Z",
     "iopub.status.idle": "2020-09-16T12:02:49.209979Z",
     "shell.execute_reply": "2020-09-16T12:02:49.209261Z",
     "shell.execute_reply.started": "2020-09-16T12:02:49.206824Z"
    }
   },
   "outputs": [],
   "source": [
    "accuracy_test = result/len(y_test)"
   ]
  },
  {
   "cell_type": "code",
   "execution_count": 32,
   "metadata": {
    "execution": {
     "iopub.execute_input": "2020-09-16T12:02:49.663220Z",
     "iopub.status.busy": "2020-09-16T12:02:49.663005Z",
     "iopub.status.idle": "2020-09-16T12:02:49.667343Z",
     "shell.execute_reply": "2020-09-16T12:02:49.666540Z",
     "shell.execute_reply.started": "2020-09-16T12:02:49.663195Z"
    }
   },
   "outputs": [
    {
     "name": "stderr",
     "output_type": "stream",
     "text": [
      "INFO:root:0.9612738853503184\n"
     ]
    }
   ],
   "source": [
    "logging.info(accuracy_test)"
   ]
  },
  {
   "cell_type": "markdown",
   "metadata": {},
   "source": [
    "# Accuracy graphs"
   ]
  },
  {
   "cell_type": "code",
   "execution_count": 33,
   "metadata": {
    "execution": {
     "iopub.execute_input": "2020-09-16T12:02:51.604806Z",
     "iopub.status.busy": "2020-09-16T12:02:51.604580Z",
     "iopub.status.idle": "2020-09-16T12:02:51.970471Z",
     "shell.execute_reply": "2020-09-16T12:02:51.969527Z",
     "shell.execute_reply.started": "2020-09-16T12:02:51.604782Z"
    }
   },
   "outputs": [
    {
     "data": {
      "image/png": "[encoded data removed]",
      "text/plain": [
       "<Figure size 720x360 with 2 Axes>"
      ]
     },
     "metadata": {
      "needs_background": "light"
     },
     "output_type": "display_data"
    }
   ],
   "source": [
    "plt.figure(figsize=(10, 5))\n",
    "subplt1 = plt.subplot(1, 2, 1)\n",
    "subplt1.plot(range(5), history_train.history['loss'], label='loss')\n",
    "subplt2 = plt.subplot(1, 2, 2)\n",
    "subplt2.plot(range(5), history_train.history['accuracy'], label='accuracy')\n",
    "subplt2.plot(range(5), history_train.history['precision'], label='precision')\n",
    "subplt2.plot(range(5), history_train.history['recall'], label='recall')\n",
    "subplt1.set_xlabel('iterations')\n",
    "subplt1.set_ylabel('loss')\n",
    "subplt2.set_xlabel('iterations')\n",
    "subplt2.legend(loc='best')\n",
    "plt.show()"
   ]
  },
  {
   "cell_type": "code",
   "execution_count": 34,
   "metadata": {
    "execution": {
     "iopub.execute_input": "2020-09-16T12:02:54.092472Z",
     "iopub.status.busy": "2020-09-16T12:02:54.092250Z",
     "iopub.status.idle": "2020-09-16T12:02:54.124735Z",
     "shell.execute_reply": "2020-09-16T12:02:54.124007Z",
     "shell.execute_reply.started": "2020-09-16T12:02:54.092447Z"
    }
   },
   "outputs": [],
   "source": [
    "basic_model.save('cnn_1x8_onehot.h5')"
   ]
  },
  {
   "cell_type": "markdown",
   "metadata": {},
   "source": [
    "# Visualizing weights and hidden layer"
   ]
  },
  {
   "cell_type": "code",
   "execution_count": 35,
   "metadata": {
    "execution": {
     "iopub.execute_input": "2020-09-16T12:02:54.976453Z",
     "iopub.status.busy": "2020-09-16T12:02:54.976245Z",
     "iopub.status.idle": "2020-09-16T12:02:54.985164Z",
     "shell.execute_reply": "2020-09-16T12:02:54.984069Z",
     "shell.execute_reply.started": "2020-09-16T12:02:54.976430Z"
    }
   },
   "outputs": [
    {
     "name": "stdout",
     "output_type": "stream",
     "text": [
      "Model: \"sequential\"\n",
      "_________________________________________________________________\n",
      "Layer (type)                 Output Shape              Param #   \n",
      "=================================================================\n",
      "conv2d (Conv2D)              (None, 26, 26, 8)         80        \n",
      "_________________________________________________________________\n",
      "max_pooling2d (MaxPooling2D) (None, 13, 13, 8)         0         \n",
      "_________________________________________________________________\n",
      "flatten (Flatten)            (None, 1352)              0         \n",
      "_________________________________________________________________\n",
      "dense (Dense)                (None, 100)               135300    \n",
      "_________________________________________________________________\n",
      "dense_1 (Dense)              (None, 10)                1010      \n",
      "=================================================================\n",
      "Total params: 136,390\n",
      "Trainable params: 136,390\n",
      "Non-trainable params: 0\n",
      "_________________________________________________________________\n"
     ]
    }
   ],
   "source": [
    "basic_model.summary()"
   ]
  },
  {
   "cell_type": "markdown",
   "metadata": {},
   "source": [
    "## 1st convolution layer"
   ]
  },
  {
   "cell_type": "code",
   "execution_count": 36,
   "metadata": {
    "execution": {
     "iopub.execute_input": "2020-09-16T12:02:56.149243Z",
     "iopub.status.busy": "2020-09-16T12:02:56.148991Z",
     "iopub.status.idle": "2020-09-16T12:02:56.152886Z",
     "shell.execute_reply": "2020-09-16T12:02:56.151788Z",
     "shell.execute_reply.started": "2020-09-16T12:02:56.149216Z"
    }
   },
   "outputs": [],
   "source": [
    "conv1 = basic_model.get_layer('conv2d')"
   ]
  },
  {
   "cell_type": "code",
   "execution_count": 37,
   "metadata": {
    "execution": {
     "iopub.execute_input": "2020-09-16T12:02:56.556932Z",
     "iopub.status.busy": "2020-09-16T12:02:56.556676Z",
     "iopub.status.idle": "2020-09-16T12:02:56.562547Z",
     "shell.execute_reply": "2020-09-16T12:02:56.561656Z",
     "shell.execute_reply.started": "2020-09-16T12:02:56.556907Z"
    }
   },
   "outputs": [
    {
     "data": {
      "text/plain": [
       "{'name': 'conv2d',\n",
       " 'trainable': True,\n",
       " 'batch_input_shape': (None, 28, 28, 1),\n",
       " 'dtype': 'float32',\n",
       " 'filters': 8,\n",
       " 'kernel_size': (3, 3),\n",
       " 'strides': (1, 1),\n",
       " 'padding': 'valid',\n",
       " 'data_format': 'channels_last',\n",
       " 'dilation_rate': (1, 1),\n",
       " 'activation': 'relu',\n",
       " 'use_bias': True,\n",
       " 'kernel_initializer': {'class_name': 'VarianceScaling',\n",
       "  'config': {'scale': 2.0,\n",
       "   'mode': 'fan_in',\n",
       "   'distribution': 'uniform',\n",
       "   'seed': None}},\n",
       " 'bias_initializer': {'class_name': 'Zeros', 'config': {}},\n",
       " 'kernel_regularizer': None,\n",
       " 'bias_regularizer': None,\n",
       " 'activity_regularizer': None,\n",
       " 'kernel_constraint': None,\n",
       " 'bias_constraint': None}"
      ]
     },
     "execution_count": 37,
     "metadata": {},
     "output_type": "execute_result"
    }
   ],
   "source": [
    "conv1.get_config()"
   ]
  },
  {
   "cell_type": "markdown",
   "metadata": {},
   "source": [
    "### Visualizing weights"
   ]
  },
  {
   "cell_type": "code",
   "execution_count": 38,
   "metadata": {
    "execution": {
     "iopub.execute_input": "2020-09-16T12:02:57.387953Z",
     "iopub.status.busy": "2020-09-16T12:02:57.387720Z",
     "iopub.status.idle": "2020-09-16T12:02:57.392322Z",
     "shell.execute_reply": "2020-09-16T12:02:57.391379Z",
     "shell.execute_reply.started": "2020-09-16T12:02:57.387929Z"
    }
   },
   "outputs": [],
   "source": [
    "conv1_w = conv1.get_weights()"
   ]
  },
  {
   "cell_type": "code",
   "execution_count": 39,
   "metadata": {
    "execution": {
     "iopub.execute_input": "2020-09-16T12:02:57.738464Z",
     "iopub.status.busy": "2020-09-16T12:02:57.738244Z",
     "iopub.status.idle": "2020-09-16T12:02:57.741634Z",
     "shell.execute_reply": "2020-09-16T12:02:57.740915Z",
     "shell.execute_reply.started": "2020-09-16T12:02:57.738440Z"
    }
   },
   "outputs": [],
   "source": [
    "conv1_w = np.array(conv1_w, dtype=object)"
   ]
  },
  {
   "cell_type": "code",
   "execution_count": 40,
   "metadata": {
    "execution": {
     "iopub.execute_input": "2020-09-16T12:02:58.106883Z",
     "iopub.status.busy": "2020-09-16T12:02:58.106667Z",
     "iopub.status.idle": "2020-09-16T12:02:58.111280Z",
     "shell.execute_reply": "2020-09-16T12:02:58.110692Z",
     "shell.execute_reply.started": "2020-09-16T12:02:58.106860Z"
    }
   },
   "outputs": [
    {
     "name": "stderr",
     "output_type": "stream",
     "text": [
      "INFO:root:(3, 3, 1, 8)\n",
      "INFO:root:(8,)\n"
     ]
    }
   ],
   "source": [
    "for w in conv1_w:\n",
    "    logging.info(w.shape)"
   ]
  },
  {
   "cell_type": "code",
   "execution_count": 41,
   "metadata": {
    "execution": {
     "iopub.execute_input": "2020-09-16T12:02:58.492029Z",
     "iopub.status.busy": "2020-09-16T12:02:58.491786Z",
     "iopub.status.idle": "2020-09-16T12:02:59.109702Z",
     "shell.execute_reply": "2020-09-16T12:02:59.109048Z",
     "shell.execute_reply.started": "2020-09-16T12:02:58.492004Z"
    }
   },
   "outputs": [
    {
     "data": {
      "image/png": "[encoded data removed]",
      "text/plain": [
       "<Figure size 432x288 with 8 Axes>"
      ]
     },
     "metadata": {
      "needs_background": "light"
     },
     "output_type": "display_data"
    }
   ],
   "source": [
    "for i in range(8):\n",
    "    subplt = plt.subplot(2, 4, i+1)\n",
    "    subplt.imshow(conv1_w[0][:, :, 0, i], cmap='gray')\n",
    "plt.show()"
   ]
  },
  {
   "cell_type": "markdown",
   "metadata": {},
   "source": [
    "### Visualizing the ouput"
   ]
  },
  {
   "cell_type": "markdown",
   "metadata": {},
   "source": [
    "We need to create another model with the same 1st layer as our base model and output being the layer 1st layer itself. This will give us the (1, 26, 26, 8) shaped output which will contain the output of all the 8 filters stacked together. We can plot this output to understand what our model learned in the 1st convolution layer."
   ]
  },
  {
   "cell_type": "code",
   "execution_count": 42,
   "metadata": {
    "execution": {
     "iopub.execute_input": "2020-09-16T12:03:01.357577Z",
     "iopub.status.busy": "2020-09-16T12:03:01.357273Z",
     "iopub.status.idle": "2020-09-16T12:03:01.369015Z",
     "shell.execute_reply": "2020-09-16T12:03:01.368329Z",
     "shell.execute_reply.started": "2020-09-16T12:03:01.357529Z"
    }
   },
   "outputs": [],
   "source": [
    "# creatin a intermediate model\n",
    "conv_1_08_model = Sequential()\n",
    "conv_1_08_model.add(conv1)"
   ]
  },
  {
   "cell_type": "code",
   "execution_count": 44,
   "metadata": {
    "execution": {
     "iopub.execute_input": "2020-09-16T12:03:06.993202Z",
     "iopub.status.busy": "2020-09-16T12:03:06.992744Z",
     "iopub.status.idle": "2020-09-16T12:03:07.141675Z",
     "shell.execute_reply": "2020-09-16T12:03:07.141022Z",
     "shell.execute_reply.started": "2020-09-16T12:03:06.993156Z"
    }
   },
   "outputs": [
    {
     "data": {
      "image/png": "[encoded data removed]",
      "text/plain": [
       "<Figure size 432x288 with 1 Axes>"
      ]
     },
     "metadata": {
      "needs_background": "light"
     },
     "output_type": "display_data"
    }
   ],
   "source": [
    "# getting a random image for prediction\n",
    "# the image features of this prediction is what we are trying to visualize\n",
    "i = random.randint(0, x_test.shape[0])\n",
    "conv1_test_feat = x_test[i]\n",
    "plt.imshow(conv1_test_feat, cmap='gray')\n",
    "plt.show()"
   ]
  },
  {
   "cell_type": "code",
   "execution_count": 45,
   "metadata": {
    "execution": {
     "iopub.execute_input": "2020-09-16T12:03:07.607676Z",
     "iopub.status.busy": "2020-09-16T12:03:07.607455Z",
     "iopub.status.idle": "2020-09-16T12:03:07.612015Z",
     "shell.execute_reply": "2020-09-16T12:03:07.611280Z",
     "shell.execute_reply.started": "2020-09-16T12:03:07.607652Z"
    }
   },
   "outputs": [
    {
     "name": "stderr",
     "output_type": "stream",
     "text": [
      "INFO:root:(1, 28, 28, 1)\n"
     ]
    }
   ],
   "source": [
    "logging.info(conv1_test_feat.reshape((1,28,28,1)).shape)"
   ]
  },
  {
   "cell_type": "code",
   "execution_count": 46,
   "metadata": {
    "execution": {
     "iopub.execute_input": "2020-09-16T12:03:08.091077Z",
     "iopub.status.busy": "2020-09-16T12:03:08.090812Z",
     "iopub.status.idle": "2020-09-16T12:03:08.156171Z",
     "shell.execute_reply": "2020-09-16T12:03:08.155168Z",
     "shell.execute_reply.started": "2020-09-16T12:03:08.091050Z"
    }
   },
   "outputs": [],
   "source": [
    "conv1_out = conv_1_08_model.predict(conv1_test_feat.reshape((1,28,28,1)))"
   ]
  },
  {
   "cell_type": "code",
   "execution_count": 47,
   "metadata": {
    "execution": {
     "iopub.execute_input": "2020-09-16T12:03:08.591135Z",
     "iopub.status.busy": "2020-09-16T12:03:08.590918Z",
     "iopub.status.idle": "2020-09-16T12:03:08.596765Z",
     "shell.execute_reply": "2020-09-16T12:03:08.595652Z",
     "shell.execute_reply.started": "2020-09-16T12:03:08.591112Z"
    }
   },
   "outputs": [
    {
     "name": "stderr",
     "output_type": "stream",
     "text": [
      "INFO:root:(1, 26, 26, 8)\n"
     ]
    }
   ],
   "source": [
    "logging.info(conv1_out.shape)"
   ]
  },
  {
   "cell_type": "code",
   "execution_count": 48,
   "metadata": {
    "execution": {
     "iopub.execute_input": "2020-09-16T12:03:09.174644Z",
     "iopub.status.busy": "2020-09-16T12:03:09.174266Z",
     "iopub.status.idle": "2020-09-16T12:03:09.764519Z",
     "shell.execute_reply": "2020-09-16T12:03:09.763814Z",
     "shell.execute_reply.started": "2020-09-16T12:03:09.174490Z"
    }
   },
   "outputs": [
    {
     "data": {
      "image/png": "[encoded data removed]",
      "text/plain": [
       "<Figure size 432x288 with 8 Axes>"
      ]
     },
     "metadata": {
      "needs_background": "light"
     },
     "output_type": "display_data"
    }
   ],
   "source": [
    "for i in range(8):\n",
    "    subplt = plt.subplot(2, 4, i+1)\n",
    "    subplt.imshow(conv1_out[0, :, :, i])\n",
    "plt.show()"
   ]
  },
  {
   "cell_type": "code",
   "execution_count": 49,
   "metadata": {
    "execution": {
     "iopub.execute_input": "2020-09-16T12:03:11.661767Z",
     "iopub.status.busy": "2020-09-16T12:03:11.661469Z",
     "iopub.status.idle": "2020-09-16T12:03:11.670165Z",
     "shell.execute_reply": "2020-09-16T12:03:11.669454Z",
     "shell.execute_reply.started": "2020-09-16T12:03:11.661737Z"
    }
   },
   "outputs": [],
   "source": [
    "def conv1_test_output(num_examples):\n",
    "    random_index = [random.randint(0, x_test.shape[0]) for i in range(num_examples)]\n",
    "    random_feat = x_test[random_index]\n",
    "    assert len(random_feat.shape) == 4\n",
    "    intermediate_model = Sequential()\n",
    "    intermediate_model.add(conv1)\n",
    "    pred = intermediate_model.predict(random_feat)\n",
    "    for index, p in enumerate(pred):\n",
    "        fig = plt.figure(figsize=(16, 3), constrained_layout=True)\n",
    "        grid = gridspec.GridSpec(1, 3, figure=fig)\n",
    "        grid0 = grid[0]\n",
    "        grid1 = grid[1].subgridspec(2, 4)\n",
    "        grid2 = grid[2].subgridspec(2, 4)\n",
    "        fig.add_subplot(grid0).imshow(random_feat[index], cmap='gray')\n",
    "        for i in range(8):\n",
    "            row = i // 4\n",
    "            col = i % 4\n",
    "            subplt = fig.add_subplot(grid1[row, col])\n",
    "            subplt.imshow(conv1_w[0][:, :, 0, i], cmap='gray')\n",
    "        for i in range(8):\n",
    "            row = i // 4\n",
    "            col = i % 4\n",
    "            subplt = fig.add_subplot(grid2[row, col])\n",
    "            subplt.imshow(p[:,:,i], cmap='gray')\n",
    "        plt.show()"
   ]
  },
  {
   "cell_type": "code",
   "execution_count": 50,
   "metadata": {
    "execution": {
     "iopub.execute_input": "2020-09-16T12:03:12.159973Z",
     "iopub.status.busy": "2020-09-16T12:03:12.159756Z",
     "iopub.status.idle": "2020-09-16T12:03:18.298375Z",
     "shell.execute_reply": "2020-09-16T12:03:18.297563Z",
     "shell.execute_reply.started": "2020-09-16T12:03:12.159949Z"
    }
   },
   "outputs": [
    {
     "data": {
      "image/png": "[encoded data removed]",
      "text/plain": [
       "<Figure size 1152x216 with 17 Axes>"
      ]
     },
     "metadata": {
      "needs_background": "light"
     },
     "output_type": "display_data"
    },
    {
     "data": {
      "image/png": "[encoded data removed]",
      "text/plain": [
       "<Figure size 1152x216 with 17 Axes>"
      ]
     },
     "metadata": {
      "needs_background": "light"
     },
     "output_type": "display_data"
    },
    {
     "data": {
      "image/png": "[encoded data removed]",
      "text/plain": [
       "<Figure size 1152x216 with 17 Axes>"
      ]
     },
     "metadata": {
      "needs_background": "light"
     },
     "output_type": "display_data"
    }
   ],
   "source": [
    "conv1_test_output(3)"
   ]
  },
  {
   "cell_type": "code",
   "execution_count": null,
   "metadata": {},
   "outputs": [],
   "source": []
  }
 ],
 "metadata": {
  "kernelspec": {
   "display_name": "Python 3",
   "language": "python",
   "name": "python3"
  },
  "language_info": {
   "codemirror_mode": {
    "name": "ipython",
    "version": 3
   },
   "file_extension": ".py",
   "mimetype": "text/x-python",
   "name": "python",
   "nbconvert_exporter": "python",
   "pygments_lexer": "ipython3",
   "version": "3.8.3"
  },
  "toc-autonumbering": true,
  "toc-showcode": false,
  "toc-showmarkdowntxt": false
 },
 "nbformat": 4,
 "nbformat_minor": 4
}
