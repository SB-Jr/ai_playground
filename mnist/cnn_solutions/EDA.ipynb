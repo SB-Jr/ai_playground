{
 "cells": [
  {
   "cell_type": "markdown",
   "metadata": {},
   "source": [
    "# EDA"
   ]
  },
  {
   "cell_type": "markdown",
   "metadata": {},
   "source": [
    "## Imports"
   ]
  },
  {
   "cell_type": "code",
   "execution_count": 1,
   "metadata": {
    "execution": {
     "iopub.execute_input": "2020-09-14T14:33:52.884422Z",
     "iopub.status.busy": "2020-09-14T14:33:52.884222Z",
     "iopub.status.idle": "2020-09-14T14:33:53.417914Z",
     "shell.execute_reply": "2020-09-14T14:33:53.417289Z",
     "shell.execute_reply.started": "2020-09-14T14:33:52.884399Z"
    }
   },
   "outputs": [],
   "source": [
    "import pandas as pd\n",
    "import numpy as np\n",
    "import matplotlib.pyplot as plt\n",
    "from IPython.display import display\n",
    "import logging\n",
    "import random"
   ]
  },
  {
   "cell_type": "code",
   "execution_count": 2,
   "metadata": {
    "execution": {
     "iopub.execute_input": "2020-09-14T13:56:03.969566Z",
     "iopub.status.busy": "2020-09-14T13:56:03.969256Z",
     "iopub.status.idle": "2020-09-14T13:56:03.974644Z",
     "shell.execute_reply": "2020-09-14T13:56:03.973853Z",
     "shell.execute_reply.started": "2020-09-14T13:56:03.969529Z"
    }
   },
   "outputs": [],
   "source": [
    "%matplotlib inline\n",
    "#%matplotlib widget"
   ]
  },
  {
   "cell_type": "code",
   "execution_count": 34,
   "metadata": {
    "execution": {
     "iopub.execute_input": "2020-09-14T15:14:37.059346Z",
     "iopub.status.busy": "2020-09-14T15:14:37.059014Z",
     "iopub.status.idle": "2020-09-14T15:14:37.062683Z",
     "shell.execute_reply": "2020-09-14T15:14:37.061862Z",
     "shell.execute_reply.started": "2020-09-14T15:14:37.059306Z"
    }
   },
   "outputs": [],
   "source": [
    "logging.getLogger().setLevel(logging.INFO)"
   ]
  },
  {
   "cell_type": "markdown",
   "metadata": {},
   "source": [
    "## Reading data"
   ]
  },
  {
   "cell_type": "code",
   "execution_count": 2,
   "metadata": {
    "execution": {
     "iopub.execute_input": "2020-09-14T14:33:56.918876Z",
     "iopub.status.busy": "2020-09-14T14:33:56.918659Z",
     "iopub.status.idle": "2020-09-14T14:33:59.241659Z",
     "shell.execute_reply": "2020-09-14T14:33:59.240983Z",
     "shell.execute_reply.started": "2020-09-14T14:33:56.918852Z"
    }
   },
   "outputs": [
    {
     "data": {
      "text/plain": [
       "(42000, 785)"
      ]
     },
     "metadata": {},
     "output_type": "display_data"
    }
   ],
   "source": [
    "data_path = '../dataset/train.csv'\n",
    "dataset = pd.read_csv(data_path)\n",
    "display(dataset.shape)"
   ]
  },
  {
   "cell_type": "markdown",
   "metadata": {},
   "source": [
    "## Visualizing data"
   ]
  },
  {
   "cell_type": "code",
   "execution_count": 5,
   "metadata": {
    "execution": {
     "iopub.execute_input": "2020-09-14T12:35:42.392096Z",
     "iopub.status.busy": "2020-09-14T12:35:42.391887Z",
     "iopub.status.idle": "2020-09-14T12:35:42.410437Z",
     "shell.execute_reply": "2020-09-14T12:35:42.409470Z",
     "shell.execute_reply.started": "2020-09-14T12:35:42.392071Z"
    }
   },
   "outputs": [
    {
     "data": {
      "text/html": [
       "<div>\n",
       "<style scoped>\n",
       "    .dataframe tbody tr th:only-of-type {\n",
       "        vertical-align: middle;\n",
       "    }\n",
       "\n",
       "    .dataframe tbody tr th {\n",
       "        vertical-align: top;\n",
       "    }\n",
       "\n",
       "    .dataframe thead th {\n",
       "        text-align: right;\n",
       "    }\n",
       "</style>\n",
       "<table border=\"1\" class=\"dataframe\">\n",
       "  <thead>\n",
       "    <tr style=\"text-align: right;\">\n",
       "      <th></th>\n",
       "      <th>label</th>\n",
       "      <th>pixel0</th>\n",
       "      <th>pixel1</th>\n",
       "      <th>pixel2</th>\n",
       "      <th>pixel3</th>\n",
       "      <th>pixel4</th>\n",
       "      <th>pixel5</th>\n",
       "      <th>pixel6</th>\n",
       "      <th>pixel7</th>\n",
       "      <th>pixel8</th>\n",
       "      <th>...</th>\n",
       "      <th>pixel774</th>\n",
       "      <th>pixel775</th>\n",
       "      <th>pixel776</th>\n",
       "      <th>pixel777</th>\n",
       "      <th>pixel778</th>\n",
       "      <th>pixel779</th>\n",
       "      <th>pixel780</th>\n",
       "      <th>pixel781</th>\n",
       "      <th>pixel782</th>\n",
       "      <th>pixel783</th>\n",
       "    </tr>\n",
       "  </thead>\n",
       "  <tbody>\n",
       "    <tr>\n",
       "      <th>0</th>\n",
       "      <td>1</td>\n",
       "      <td>0</td>\n",
       "      <td>0</td>\n",
       "      <td>0</td>\n",
       "      <td>0</td>\n",
       "      <td>0</td>\n",
       "      <td>0</td>\n",
       "      <td>0</td>\n",
       "      <td>0</td>\n",
       "      <td>0</td>\n",
       "      <td>...</td>\n",
       "      <td>0</td>\n",
       "      <td>0</td>\n",
       "      <td>0</td>\n",
       "      <td>0</td>\n",
       "      <td>0</td>\n",
       "      <td>0</td>\n",
       "      <td>0</td>\n",
       "      <td>0</td>\n",
       "      <td>0</td>\n",
       "      <td>0</td>\n",
       "    </tr>\n",
       "    <tr>\n",
       "      <th>1</th>\n",
       "      <td>0</td>\n",
       "      <td>0</td>\n",
       "      <td>0</td>\n",
       "      <td>0</td>\n",
       "      <td>0</td>\n",
       "      <td>0</td>\n",
       "      <td>0</td>\n",
       "      <td>0</td>\n",
       "      <td>0</td>\n",
       "      <td>0</td>\n",
       "      <td>...</td>\n",
       "      <td>0</td>\n",
       "      <td>0</td>\n",
       "      <td>0</td>\n",
       "      <td>0</td>\n",
       "      <td>0</td>\n",
       "      <td>0</td>\n",
       "      <td>0</td>\n",
       "      <td>0</td>\n",
       "      <td>0</td>\n",
       "      <td>0</td>\n",
       "    </tr>\n",
       "    <tr>\n",
       "      <th>2</th>\n",
       "      <td>1</td>\n",
       "      <td>0</td>\n",
       "      <td>0</td>\n",
       "      <td>0</td>\n",
       "      <td>0</td>\n",
       "      <td>0</td>\n",
       "      <td>0</td>\n",
       "      <td>0</td>\n",
       "      <td>0</td>\n",
       "      <td>0</td>\n",
       "      <td>...</td>\n",
       "      <td>0</td>\n",
       "      <td>0</td>\n",
       "      <td>0</td>\n",
       "      <td>0</td>\n",
       "      <td>0</td>\n",
       "      <td>0</td>\n",
       "      <td>0</td>\n",
       "      <td>0</td>\n",
       "      <td>0</td>\n",
       "      <td>0</td>\n",
       "    </tr>\n",
       "    <tr>\n",
       "      <th>3</th>\n",
       "      <td>4</td>\n",
       "      <td>0</td>\n",
       "      <td>0</td>\n",
       "      <td>0</td>\n",
       "      <td>0</td>\n",
       "      <td>0</td>\n",
       "      <td>0</td>\n",
       "      <td>0</td>\n",
       "      <td>0</td>\n",
       "      <td>0</td>\n",
       "      <td>...</td>\n",
       "      <td>0</td>\n",
       "      <td>0</td>\n",
       "      <td>0</td>\n",
       "      <td>0</td>\n",
       "      <td>0</td>\n",
       "      <td>0</td>\n",
       "      <td>0</td>\n",
       "      <td>0</td>\n",
       "      <td>0</td>\n",
       "      <td>0</td>\n",
       "    </tr>\n",
       "    <tr>\n",
       "      <th>4</th>\n",
       "      <td>0</td>\n",
       "      <td>0</td>\n",
       "      <td>0</td>\n",
       "      <td>0</td>\n",
       "      <td>0</td>\n",
       "      <td>0</td>\n",
       "      <td>0</td>\n",
       "      <td>0</td>\n",
       "      <td>0</td>\n",
       "      <td>0</td>\n",
       "      <td>...</td>\n",
       "      <td>0</td>\n",
       "      <td>0</td>\n",
       "      <td>0</td>\n",
       "      <td>0</td>\n",
       "      <td>0</td>\n",
       "      <td>0</td>\n",
       "      <td>0</td>\n",
       "      <td>0</td>\n",
       "      <td>0</td>\n",
       "      <td>0</td>\n",
       "    </tr>\n",
       "  </tbody>\n",
       "</table>\n",
       "<p>5 rows × 785 columns</p>\n",
       "</div>"
      ],
      "text/plain": [
       "   label  pixel0  pixel1  pixel2  pixel3  pixel4  pixel5  pixel6  pixel7  \\\n",
       "0      1       0       0       0       0       0       0       0       0   \n",
       "1      0       0       0       0       0       0       0       0       0   \n",
       "2      1       0       0       0       0       0       0       0       0   \n",
       "3      4       0       0       0       0       0       0       0       0   \n",
       "4      0       0       0       0       0       0       0       0       0   \n",
       "\n",
       "   pixel8  ...  pixel774  pixel775  pixel776  pixel777  pixel778  pixel779  \\\n",
       "0       0  ...         0         0         0         0         0         0   \n",
       "1       0  ...         0         0         0         0         0         0   \n",
       "2       0  ...         0         0         0         0         0         0   \n",
       "3       0  ...         0         0         0         0         0         0   \n",
       "4       0  ...         0         0         0         0         0         0   \n",
       "\n",
       "   pixel780  pixel781  pixel782  pixel783  \n",
       "0         0         0         0         0  \n",
       "1         0         0         0         0  \n",
       "2         0         0         0         0  \n",
       "3         0         0         0         0  \n",
       "4         0         0         0         0  \n",
       "\n",
       "[5 rows x 785 columns]"
      ]
     },
     "execution_count": 5,
     "metadata": {},
     "output_type": "execute_result"
    }
   ],
   "source": [
    "dataset.head()"
   ]
  },
  {
   "cell_type": "markdown",
   "metadata": {},
   "source": [
    "### Data distribution"
   ]
  },
  {
   "cell_type": "code",
   "execution_count": 6,
   "metadata": {
    "execution": {
     "iopub.execute_input": "2020-09-14T12:35:42.411782Z",
     "iopub.status.busy": "2020-09-14T12:35:42.411592Z",
     "iopub.status.idle": "2020-09-14T12:35:42.749051Z",
     "shell.execute_reply": "2020-09-14T12:35:42.748118Z",
     "shell.execute_reply.started": "2020-09-14T12:35:42.411759Z"
    }
   },
   "outputs": [
    {
     "data": {
      "image/png": "[encoded data removed]",
      "text/plain": [
       "<Figure size 432x288 with 1 Axes>"
      ]
     },
     "metadata": {
      "needs_background": "light"
     },
     "output_type": "display_data"
    }
   ],
   "source": [
    "plt.hist(dataset.label)\n",
    "plt.show()"
   ]
  },
  {
   "cell_type": "markdown",
   "metadata": {},
   "source": [
    "We can see here that the data is porperly distributed among all the classes and every class is similar number of examples to train on"
   ]
  },
  {
   "cell_type": "markdown",
   "metadata": {},
   "source": [
    "### Data examples"
   ]
  },
  {
   "cell_type": "code",
   "execution_count": 7,
   "metadata": {
    "execution": {
     "iopub.execute_input": "2020-09-14T12:35:44.243792Z",
     "iopub.status.busy": "2020-09-14T12:35:44.243538Z",
     "iopub.status.idle": "2020-09-14T12:35:44.248195Z",
     "shell.execute_reply": "2020-09-14T12:35:44.247394Z",
     "shell.execute_reply.started": "2020-09-14T12:35:44.243761Z"
    }
   },
   "outputs": [],
   "source": [
    "exmple_data = dataset.iloc[0]"
   ]
  },
  {
   "cell_type": "code",
   "execution_count": 8,
   "metadata": {
    "execution": {
     "iopub.execute_input": "2020-09-14T12:35:44.693816Z",
     "iopub.status.busy": "2020-09-14T12:35:44.693605Z",
     "iopub.status.idle": "2020-09-14T12:35:44.699840Z",
     "shell.execute_reply": "2020-09-14T12:35:44.698709Z",
     "shell.execute_reply.started": "2020-09-14T12:35:44.693792Z"
    }
   },
   "outputs": [
    {
     "name": "stderr",
     "output_type": "stream",
     "text": [
      "INFO:root:<class 'pandas.core.series.Series'>\n"
     ]
    }
   ],
   "source": [
    "logging.info(type(exmple_data[1:]))\n",
    "example_img = exmple_data[1:].values.reshape((28, 28))"
   ]
  },
  {
   "cell_type": "code",
   "execution_count": 9,
   "metadata": {
    "execution": {
     "iopub.execute_input": "2020-09-14T12:35:45.248759Z",
     "iopub.status.busy": "2020-09-14T12:35:45.248370Z",
     "iopub.status.idle": "2020-09-14T12:35:45.398027Z",
     "shell.execute_reply": "2020-09-14T12:35:45.397402Z",
     "shell.execute_reply.started": "2020-09-14T12:35:45.248716Z"
    }
   },
   "outputs": [
    {
     "data": {
      "image/png": "[encoded data removed]",
      "text/plain": [
       "<Figure size 432x288 with 1 Axes>"
      ]
     },
     "metadata": {
      "needs_background": "light"
     },
     "output_type": "display_data"
    }
   ],
   "source": [
    "plt.imshow(example_img, cmap='gray')\n",
    "plt.title(exmple_data.label)\n",
    "plt.show()"
   ]
  },
  {
   "cell_type": "markdown",
   "metadata": {},
   "source": [
    "We can see here that the series values when converted into a shape of 28x28 gives us the perfect output"
   ]
  },
  {
   "cell_type": "markdown",
   "metadata": {},
   "source": [
    "### Sampling multiple data"
   ]
  },
  {
   "cell_type": "code",
   "execution_count": 10,
   "metadata": {
    "execution": {
     "iopub.execute_input": "2020-09-14T12:35:48.312625Z",
     "iopub.status.busy": "2020-09-14T12:35:48.312400Z",
     "iopub.status.idle": "2020-09-14T12:35:49.570109Z",
     "shell.execute_reply": "2020-09-14T12:35:49.569098Z",
     "shell.execute_reply.started": "2020-09-14T12:35:48.312600Z"
    }
   },
   "outputs": [
    {
     "data": {
      "image/png": "[encoded data removed]",
      "text/plain": [
       "<Figure size 720x720 with 16 Axes>"
      ]
     },
     "metadata": {
      "needs_background": "light"
     },
     "output_type": "display_data"
    }
   ],
   "source": [
    "plt.figure(figsize=(10,10))\n",
    "for i in range(16):\n",
    "    index = random.randint(0, dataset.shape[0])\n",
    "    img = dataset.iloc[index][1:].values.reshape((28,28))\n",
    "    subplt = plt.subplot(4, 4, i+1)\n",
    "    subplt.imshow(img, cmap='gray')\n",
    "    subplt.set_title(dataset.iloc[index].label)\n",
    "plt.show()"
   ]
  },
  {
   "cell_type": "markdown",
   "metadata": {},
   "source": [
    "## Get Data for processing"
   ]
  },
  {
   "cell_type": "code",
   "execution_count": 3,
   "metadata": {
    "execution": {
     "iopub.execute_input": "2020-09-14T14:34:11.554034Z",
     "iopub.status.busy": "2020-09-14T14:34:11.553827Z",
     "iopub.status.idle": "2020-09-14T14:34:11.562071Z",
     "shell.execute_reply": "2020-09-14T14:34:11.561404Z",
     "shell.execute_reply.started": "2020-09-14T14:34:11.554011Z"
    }
   },
   "outputs": [],
   "source": [
    "def train_test_validation_split(dataframe: pd.DataFrame, train_ratio = 0.8, validation_ratio = 0.1):\n",
    "    \"\"\"\n",
    "    Will have to find equal weighted training data\n",
    "    rest can be easily distributed in validation and test set\n",
    "    Given that the data has almost equal examples for each label\n",
    "    \"\"\"\n",
    "    assert train_ratio + validation_ratio < 1.0\n",
    "    data = dataframe.copy()\n",
    "    # basic info gathering to aid partitioning\n",
    "    labels = data.label.unique()\n",
    "    min_item_per_label = data.groupby('label').label.count().min()\n",
    "    # defining the indexes\n",
    "    train_index = int(min_item_per_label * train_ratio)\n",
    "    validation_index = int(min_item_per_label * validation_ratio + train_index)\n",
    "    # randomize the data\n",
    "    data.sample(frac=1).reset_index(drop=True)\n",
    "    # sample data\n",
    "    train_data = pd.DataFrame()\n",
    "    validation_data = pd.DataFrame()\n",
    "    test_data = pd.DataFrame()\n",
    "    for l in labels:\n",
    "        logging.info('handling label: '+ str(l))\n",
    "        train_data = train_data.append(data[data.label == l].iloc[:train_index])\n",
    "        validation_data = validation_data.append(data[data.label == l].iloc[train_index: validation_index])\n",
    "        test_data = test_data.append(data[data.label == l].iloc[validation_index:])\n",
    "    # shuffling the data\n",
    "    train_data.sample(frac=1).reset_index(drop=True)\n",
    "    test_data.sample(frac=1).reset_index(drop=True)\n",
    "    validation_data.sample(frac=1).reset_index(drop=True)\n",
    "    # validating that all the set contains all the labels\n",
    "    assert len(train_data.label.unique()) == len(labels)\n",
    "    assert len(test_data.label.unique()) == len(labels)\n",
    "    assert len(validation_data.label.unique()) == len(labels)\n",
    "    \n",
    "    return train_data, validation_data, test_data"
   ]
  },
  {
   "cell_type": "code",
   "execution_count": 22,
   "metadata": {
    "execution": {
     "iopub.execute_input": "2020-09-14T14:40:41.225817Z",
     "iopub.status.busy": "2020-09-14T14:40:41.225563Z",
     "iopub.status.idle": "2020-09-14T14:40:42.765481Z",
     "shell.execute_reply": "2020-09-14T14:40:42.764881Z",
     "shell.execute_reply.started": "2020-09-14T14:40:41.225790Z"
    }
   },
   "outputs": [],
   "source": [
    "train_data, validation_data, test_data = train_test_validation_split(dataset)"
   ]
  },
  {
   "cell_type": "code",
   "execution_count": 7,
   "metadata": {
    "execution": {
     "iopub.execute_input": "2020-09-14T13:56:22.642914Z",
     "iopub.status.busy": "2020-09-14T13:56:22.642696Z",
     "iopub.status.idle": "2020-09-14T13:56:22.649972Z",
     "shell.execute_reply": "2020-09-14T13:56:22.649329Z",
     "shell.execute_reply.started": "2020-09-14T13:56:22.642890Z"
    }
   },
   "outputs": [
    {
     "data": {
      "text/plain": [
       "label\n",
       "0    3036\n",
       "1    3036\n",
       "2    3036\n",
       "3    3036\n",
       "4    3036\n",
       "5    3036\n",
       "6    3036\n",
       "7    3036\n",
       "8    3036\n",
       "9    3036\n",
       "Name: label, dtype: int64"
      ]
     },
     "execution_count": 7,
     "metadata": {},
     "output_type": "execute_result"
    }
   ],
   "source": [
    "train_data.groupby('label').label.count()"
   ]
  },
  {
   "cell_type": "code",
   "execution_count": 111,
   "metadata": {
    "execution": {
     "iopub.execute_input": "2020-09-14T06:02:55.917892Z",
     "iopub.status.busy": "2020-09-14T06:02:55.917469Z",
     "iopub.status.idle": "2020-09-14T06:02:55.926966Z",
     "shell.execute_reply": "2020-09-14T06:02:55.925007Z",
     "shell.execute_reply.started": "2020-09-14T06:02:55.917859Z"
    }
   },
   "outputs": [
    {
     "data": {
      "text/plain": [
       "label\n",
       "0    379\n",
       "1    379\n",
       "2    379\n",
       "3    379\n",
       "4    379\n",
       "5    379\n",
       "6    379\n",
       "7    379\n",
       "8    379\n",
       "9    379\n",
       "Name: label, dtype: int64"
      ]
     },
     "execution_count": 111,
     "metadata": {},
     "output_type": "execute_result"
    }
   ],
   "source": [
    "validation_data.groupby('label').label.count()"
   ]
  },
  {
   "cell_type": "code",
   "execution_count": 112,
   "metadata": {
    "execution": {
     "iopub.execute_input": "2020-09-14T06:02:56.593932Z",
     "iopub.status.busy": "2020-09-14T06:02:56.593697Z",
     "iopub.status.idle": "2020-09-14T06:02:56.600616Z",
     "shell.execute_reply": "2020-09-14T06:02:56.599523Z",
     "shell.execute_reply.started": "2020-09-14T06:02:56.593908Z"
    }
   },
   "outputs": [
    {
     "data": {
      "text/plain": [
       "label\n",
       "0     717\n",
       "1    1269\n",
       "2     762\n",
       "3     936\n",
       "4     657\n",
       "5     380\n",
       "6     722\n",
       "7     986\n",
       "8     648\n",
       "9     773\n",
       "Name: label, dtype: int64"
      ]
     },
     "execution_count": 112,
     "metadata": {},
     "output_type": "execute_result"
    }
   ],
   "source": [
    "test_data.groupby('label').label.count()"
   ]
  },
  {
   "cell_type": "code",
   "execution_count": 115,
   "metadata": {
    "execution": {
     "iopub.execute_input": "2020-09-14T06:06:31.080001Z",
     "iopub.status.busy": "2020-09-14T06:06:31.079633Z",
     "iopub.status.idle": "2020-09-14T06:06:31.088324Z",
     "shell.execute_reply": "2020-09-14T06:06:31.087368Z",
     "shell.execute_reply.started": "2020-09-14T06:06:31.079961Z"
    }
   },
   "outputs": [],
   "source": [
    "def plot_sample_data(dataset: pd.DataFrame):\n",
    "    for i in range(16):\n",
    "        index = random.randint(0, dataset.shape[0])\n",
    "        subplot = plt.subplot(4, 4, i+1)\n",
    "        data = dataset.iloc[index]\n",
    "        subplot.set_title(data.label)\n",
    "        subplot.imshow(data[1:].values.reshape((28,28)), cmap='gray')\n",
    "    plt.show()"
   ]
  },
  {
   "cell_type": "code",
   "execution_count": 116,
   "metadata": {
    "execution": {
     "iopub.execute_input": "2020-09-14T06:06:31.671380Z",
     "iopub.status.busy": "2020-09-14T06:06:31.671158Z",
     "iopub.status.idle": "2020-09-14T06:06:32.840250Z",
     "shell.execute_reply": "2020-09-14T06:06:32.839570Z",
     "shell.execute_reply.started": "2020-09-14T06:06:31.671357Z"
    }
   },
   "outputs": [
    {
     "data": {
      "image/png": "[encoded data removed]",
      "text/plain": [
       "<Figure size 432x288 with 16 Axes>"
      ]
     },
     "metadata": {
      "needs_background": "light"
     },
     "output_type": "display_data"
    }
   ],
   "source": [
    "plot_sample_data(train_data)"
   ]
  },
  {
   "cell_type": "code",
   "execution_count": 117,
   "metadata": {
    "execution": {
     "iopub.execute_input": "2020-09-14T06:06:50.842516Z",
     "iopub.status.busy": "2020-09-14T06:06:50.842309Z",
     "iopub.status.idle": "2020-09-14T06:06:52.306138Z",
     "shell.execute_reply": "2020-09-14T06:06:52.305312Z",
     "shell.execute_reply.started": "2020-09-14T06:06:50.842493Z"
    }
   },
   "outputs": [
    {
     "data": {
      "image/png": "[encoded data removed]",
      "text/plain": [
       "<Figure size 432x288 with 16 Axes>"
      ]
     },
     "metadata": {
      "needs_background": "light"
     },
     "output_type": "display_data"
    }
   ],
   "source": [
    "plot_sample_data(test_data)"
   ]
  },
  {
   "cell_type": "code",
   "execution_count": 118,
   "metadata": {
    "execution": {
     "iopub.execute_input": "2020-09-14T06:07:02.597011Z",
     "iopub.status.busy": "2020-09-14T06:07:02.596693Z",
     "iopub.status.idle": "2020-09-14T06:07:03.923178Z",
     "shell.execute_reply": "2020-09-14T06:07:03.922500Z",
     "shell.execute_reply.started": "2020-09-14T06:07:02.596959Z"
    }
   },
   "outputs": [
    {
     "data": {
      "image/png": "[encoded data removed]",
      "text/plain": [
       "<Figure size 432x288 with 16 Axes>"
      ]
     },
     "metadata": {
      "needs_background": "light"
     },
     "output_type": "display_data"
    }
   ],
   "source": [
    "plot_sample_data(validation_data)"
   ]
  },
  {
   "cell_type": "code",
   "execution_count": 8,
   "metadata": {
    "execution": {
     "iopub.execute_input": "2020-09-14T13:56:29.458308Z",
     "iopub.status.busy": "2020-09-14T13:56:29.458026Z",
     "iopub.status.idle": "2020-09-14T13:56:29.462502Z",
     "shell.execute_reply": "2020-09-14T13:56:29.461704Z",
     "shell.execute_reply.started": "2020-09-14T13:56:29.458272Z"
    }
   },
   "outputs": [],
   "source": [
    "def get_data(train_ratio=0.8, validation_ratio=0.1) -> (pd.DataFrame, pd.DataFrame, pd.DataFrame):\n",
    "    data = pd.read_csv(data_path)\n",
    "    return train_test_validation_split(data, train_ratio, validation_ratio)"
   ]
  },
  {
   "cell_type": "markdown",
   "metadata": {},
   "source": [
    "## Convert data for model consumption"
   ]
  },
  {
   "cell_type": "code",
   "execution_count": 31,
   "metadata": {
    "execution": {
     "iopub.execute_input": "2020-09-14T15:14:03.905328Z",
     "iopub.status.busy": "2020-09-14T15:14:03.905105Z",
     "iopub.status.idle": "2020-09-14T15:14:03.910313Z",
     "shell.execute_reply": "2020-09-14T15:14:03.908944Z",
     "shell.execute_reply.started": "2020-09-14T15:14:03.905304Z"
    }
   },
   "outputs": [],
   "source": [
    "def get_label_and_features_from_dataframe(df: pd.DataFrame) -> (np.ndarray, np.ndarray):\n",
    "    y = df.label.values\n",
    "    x = train_data[train_data.columns[1:]].values.reshape((-1, 28, 28, 1))\n",
    "    return x, y"
   ]
  },
  {
   "cell_type": "code",
   "execution_count": 32,
   "metadata": {
    "execution": {
     "iopub.execute_input": "2020-09-14T15:14:04.898473Z",
     "iopub.status.busy": "2020-09-14T15:14:04.898161Z",
     "iopub.status.idle": "2020-09-14T15:14:04.949809Z",
     "shell.execute_reply": "2020-09-14T15:14:04.949141Z",
     "shell.execute_reply.started": "2020-09-14T15:14:04.898444Z"
    }
   },
   "outputs": [],
   "source": [
    "train_x, train_y = get_label_and_features_from_dataframe(train_data)"
   ]
  },
  {
   "cell_type": "code",
   "execution_count": 35,
   "metadata": {
    "execution": {
     "iopub.execute_input": "2020-09-14T15:14:41.744446Z",
     "iopub.status.busy": "2020-09-14T15:14:41.744142Z",
     "iopub.status.idle": "2020-09-14T15:14:41.749135Z",
     "shell.execute_reply": "2020-09-14T15:14:41.748519Z",
     "shell.execute_reply.started": "2020-09-14T15:14:41.744413Z"
    }
   },
   "outputs": [
    {
     "name": "stderr",
     "output_type": "stream",
     "text": [
      "INFO:root:(30360, 28, 28, 1)\n",
      "INFO:root:(30360,)\n"
     ]
    }
   ],
   "source": [
    "logging.info(train_x.shape)\n",
    "logging.info(train_y.shape)"
   ]
  },
  {
   "cell_type": "code",
   "execution_count": null,
   "metadata": {},
   "outputs": [],
   "source": []
  }
 ],
 "metadata": {
  "kernelspec": {
   "display_name": "Python 3",
   "language": "python",
   "name": "python3"
  },
  "language_info": {
   "codemirror_mode": {
    "name": "ipython",
    "version": 3
   },
   "file_extension": ".py",
   "mimetype": "text/x-python",
   "name": "python",
   "nbconvert_exporter": "python",
   "pygments_lexer": "ipython3",
   "version": "3.8.3"
  },
  "toc-autonumbering": false,
  "toc-showcode": true,
  "toc-showmarkdowntxt": false,
  "toc-showtags": false
 },
 "nbformat": 4,
 "nbformat_minor": 4
}
